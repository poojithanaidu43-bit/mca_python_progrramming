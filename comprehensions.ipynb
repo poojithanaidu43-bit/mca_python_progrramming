{
 "cells": [
  {
   "cell_type": "code",
   "execution_count": 1,
   "id": "36392d60",
   "metadata": {},
   "outputs": [
    {
     "name": "stdout",
     "output_type": "stream",
     "text": [
      "['puspha', 'kannapa', 'jinna', 'journey', 'little hearts', 'court', 'lucky bhaskar', 'thammudu', 'santhosam', 'kalisundam raa', 'nuvvu naku nachav', 'baby', '7g brundhvan colony', 'remo', 'orange', 'rx 100', 'arjun reddy', 'mangalvaram']\n",
      "[6, 7, 5, 7, 13, 5, 13, 8, 9, 14, 17, 4, 19, 4, 6, 6, 11, 11]\n"
     ]
    }
   ],
   "source": [
    "movies = ['puspha','kannapa','jinna','journey','little hearts','court','lucky bhaskar','thammudu','santhosam','kalisundam raa','nuvvu naku nachav','baby','7g brundhvan colony','remo','orange','rx 100','arjun reddy','mangalvaram']\n",
    "movielen = []\n",
    "for movie in movies:\n",
    "    size = len(movie)\n",
    "    movielen.append(size)\n",
    "print(movies)\n",
    "print(movielen)"
   ]
  },
  {
   "cell_type": "code",
   "execution_count": 2,
   "id": "61f3d44e",
   "metadata": {},
   "outputs": [
    {
     "name": "stdout",
     "output_type": "stream",
     "text": [
      "['puspha', 'kannapa', 'jinna', 'journey', 'little hearts', 'court', 'lucky bhaskar', 'thammudu', 'santhosam', 'kalisundam raa', 'nuvvu naku nachav', 'baby', '7g brundhvan colony', 'remo', 'orange', 'rx 100', 'arjun reddy', 'mangalvaram']\n",
      "[6, 7, 5, 7, 13, 5, 13, 8, 9, 14, 17, 4, 19, 4, 6, 6, 11, 11]\n"
     ]
    }
   ],
   "source": [
    "movielen = [len(movie) for movie in movies]\n",
    "print(movies)\n",
    "print(movielen)"
   ]
  },
  {
   "cell_type": "code",
   "execution_count": 3,
   "id": "cbf3f45b",
   "metadata": {},
   "outputs": [
    {
     "name": "stdout",
     "output_type": "stream",
     "text": [
      "['puspha', 'kannapa', 'jinna', 'journey', 'little hearts', 'court', 'lucky bhaskar', 'thammudu', 'santhosam', 'kalisundam raa', 'nuvvu naku nachav', 'baby', '7g brundhvan colony', 'remo', 'orange', 'rx 100', 'arjun reddy', 'mangalvaram']\n",
      "['PUSPHA', 'KANNAPA', 'JINNA', 'JOURNEY', 'LITTLE HEARTS', 'COURT', 'LUCKY BHASKAR', 'THAMMUDU', 'SANTHOSAM', 'KALISUNDAM RAA', 'NUVVU NAKU NACHAV', 'BABY', '7G BRUNDHVAN COLONY', 'REMO', 'ORANGE', 'RX 100', 'ARJUN REDDY', 'MANGALVARAM']\n"
     ]
    }
   ],
   "source": [
    "# wap to create a list from movies but with all capital letters\n",
    "movies_caps = []\n",
    "for movie in movies:\n",
    "    name = movie.upper()\n",
    "    movies_caps.append(name)\n",
    "print(movies)\n",
    "print(movies_caps)"
   ]
  },
  {
   "cell_type": "code",
   "execution_count": 4,
   "id": "7fc4f1d9",
   "metadata": {},
   "outputs": [
    {
     "name": "stdout",
     "output_type": "stream",
     "text": [
      "['puspha', 'kannapa', 'jinna', 'journey', 'little hearts', 'court', 'lucky bhaskar', 'thammudu', 'santhosam', 'kalisundam raa', 'nuvvu naku nachav', 'baby', '7g brundhvan colony', 'remo', 'orange', 'rx 100', 'arjun reddy', 'mangalvaram']\n",
      "['PUSPHA', 'KANNAPA', 'JINNA', 'JOURNEY', 'LITTLE HEARTS', 'COURT', 'LUCKY BHASKAR', 'THAMMUDU', 'SANTHOSAM', 'KALISUNDAM RAA', 'NUVVU NAKU NACHAV', 'BABY', '7G BRUNDHVAN COLONY', 'REMO', 'ORANGE', 'RX 100', 'ARJUN REDDY', 'MANGALVARAM']\n"
     ]
    }
   ],
   "source": [
    "movies_caps = [movie.upper() for movie in movies]\n",
    "print(movies)\n",
    "print(movies_caps)"
   ]
  },
  {
   "cell_type": "code",
   "execution_count": 5,
   "id": "ffb8fffa",
   "metadata": {},
   "outputs": [
    {
     "name": "stdout",
     "output_type": "stream",
     "text": [
      "['puspha', 'kannapa', 'jinna', 'journey', 'little hearts', 'court', 'lucky bhaskar', 'thammudu', 'santhosam', 'kalisundam raa', 'nuvvu naku nachav', 'baby', '7g brundhvan colony', 'remo', 'orange', 'rx 100', 'arjun reddy', 'mangalvaram']\n",
      "['journey', 'court', 'santhosam', '7g brundhvan colony', 'remo', 'orange']\n"
     ]
    }
   ],
   "source": [
    "# filter the movies it contain the char 'o' and store in new list\n",
    "movies_with_o = []\n",
    "for item in movies:\n",
    "    if 'o' in item or 'o' in item:\n",
    "        movies_with_o.append(item)\n",
    "print(movies)\n",
    "print(movies_with_o)"
   ]
  },
  {
   "cell_type": "code",
   "execution_count": 6,
   "id": "8efd966d",
   "metadata": {},
   "outputs": [
    {
     "name": "stdout",
     "output_type": "stream",
     "text": [
      "['journey', 'little hearts', 'remo', 'orange', 'arjun reddy']\n"
     ]
    }
   ],
   "source": [
    "movies_with_e = [nm for nm in movies if 'e' in nm or 'e' in nm]\n",
    "print(movies_with_e)"
   ]
  },
  {
   "cell_type": "code",
   "execution_count": 7,
   "id": "5f8af31b",
   "metadata": {},
   "outputs": [
    {
     "name": "stdout",
     "output_type": "stream",
     "text": [
      "(1, 2, 3)\n"
     ]
    }
   ],
   "source": [
    "# TUPLES\n",
    "my_tuple = (1,2,3)\n",
    "print(my_tuple)"
   ]
  },
  {
   "cell_type": "code",
   "execution_count": 8,
   "id": "6291e596",
   "metadata": {},
   "outputs": [
    {
     "name": "stdout",
     "output_type": "stream",
     "text": [
      "(1, 'Hello', 3.4)\n"
     ]
    }
   ],
   "source": [
    "# tuple with mixed datatypes\n",
    "my_tuple = (1, \"Hello\", 3.4)\n",
    "print(my_tuple)"
   ]
  },
  {
   "cell_type": "code",
   "execution_count": 9,
   "id": "38084ef8",
   "metadata": {},
   "outputs": [
    {
     "name": "stdout",
     "output_type": "stream",
     "text": [
      "('mouse', [8, 4, 6], (1, 2, 3))\n"
     ]
    }
   ],
   "source": [
    "# nested tuple\n",
    "my_tuple = (\"mouse\", [8,4,6],(1,2,3))\n",
    "print(my_tuple)"
   ]
  },
  {
   "cell_type": "code",
   "execution_count": 10,
   "id": "25ad3437",
   "metadata": {},
   "outputs": [
    {
     "name": "stdout",
     "output_type": "stream",
     "text": [
      "(3, 4.6, 'Apple')\n"
     ]
    }
   ],
   "source": [
    "# a tuple can also be created without using parentheses.\n",
    "# This is know as tuple packing\n",
    "my_tuple = 3, 4.6, \"Apple\"\n",
    "print(my_tuple)"
   ]
  },
  {
   "cell_type": "code",
   "execution_count": 11,
   "id": "3ef825c0",
   "metadata": {},
   "outputs": [
    {
     "name": "stdout",
     "output_type": "stream",
     "text": [
      "p\n",
      "t\n"
     ]
    }
   ],
   "source": [
    "# Accesing tuple elements using indexing\n",
    "my_tuple = ('p','e','r','m','i','t')\n",
    "print(my_tuple[0])\n",
    "print(my_tuple[5])"
   ]
  },
  {
   "cell_type": "code",
   "execution_count": 12,
   "id": "b981ab77",
   "metadata": {},
   "outputs": [
    {
     "name": "stdout",
     "output_type": "stream",
     "text": [
      "s\n",
      "4\n"
     ]
    }
   ],
   "source": [
    "n_tuple = (\"mouse\",[8,4,6], [1,2,3])\n",
    "print(n_tuple[0][3])\n",
    "print(n_tuple[1][1])"
   ]
  },
  {
   "cell_type": "code",
   "execution_count": 13,
   "id": "d943daaa",
   "metadata": {},
   "outputs": [
    {
     "name": "stdout",
     "output_type": "stream",
     "text": [
      "('c', 'e', 'l', 'l')\n"
     ]
    }
   ],
   "source": [
    "# Slicing\n",
    "x  = ('e','x','c','e','l','l','e','n','t')\n",
    "print(x[2:6])"
   ]
  },
  {
   "cell_type": "code",
   "execution_count": 14,
   "id": "590cee51",
   "metadata": {},
   "outputs": [
    {
     "name": "stdout",
     "output_type": "stream",
     "text": [
      "('x', 'c', 'e', 'l')\n"
     ]
    }
   ],
   "source": [
    "print(x[1:5])"
   ]
  },
  {
   "cell_type": "code",
   "execution_count": 15,
   "id": "ba9a7eb1",
   "metadata": {},
   "outputs": [
    {
     "name": "stdout",
     "output_type": "stream",
     "text": [
      "('e', 'l', 'l', 'e', 'n')\n"
     ]
    }
   ],
   "source": [
    "print(x[3:8])"
   ]
  },
  {
   "cell_type": "code",
   "execution_count": 16,
   "id": "cfedf58a",
   "metadata": {},
   "outputs": [
    {
     "name": "stdout",
     "output_type": "stream",
     "text": [
      "('e', 'x', 'c', 'e', 'l', 'l', 'e', 'n', 't')\n"
     ]
    }
   ],
   "source": [
    "print(x[:])"
   ]
  },
  {
   "cell_type": "code",
   "execution_count": 17,
   "id": "787355f6",
   "metadata": {},
   "outputs": [
    {
     "name": "stdout",
     "output_type": "stream",
     "text": [
      "(1, 2, 3, 4, 5, 6)\n"
     ]
    }
   ],
   "source": [
    "print((1,2,3) + (4,5,6))"
   ]
  },
  {
   "cell_type": "code",
   "execution_count": 19,
   "id": "f56cc68f",
   "metadata": {},
   "outputs": [
    {
     "name": "stdout",
     "output_type": "stream",
     "text": [
      "('repeat', 'repeat', 'repeat')\n"
     ]
    }
   ],
   "source": [
    "print((\"repeat\",) * 3)"
   ]
  },
  {
   "cell_type": "code",
   "execution_count": 20,
   "id": "83ba610a",
   "metadata": {},
   "outputs": [
    {
     "name": "stdout",
     "output_type": "stream",
     "text": [
      "1\n",
      "2\n"
     ]
    }
   ],
   "source": [
    "a = ('m','a','n','g','o')\n",
    "print(a.count('m'))\n",
    "print(a.index('n'))"
   ]
  },
  {
   "cell_type": "code",
   "execution_count": null,
   "id": "fe8528f2",
   "metadata": {},
   "outputs": [],
   "source": []
  }
 ],
 "metadata": {
  "kernelspec": {
   "display_name": "Python 3",
   "language": "python",
   "name": "python3"
  },
  "language_info": {
   "codemirror_mode": {
    "name": "ipython",
    "version": 3
   },
   "file_extension": ".py",
   "mimetype": "text/x-python",
   "name": "python",
   "nbconvert_exporter": "python",
   "pygments_lexer": "ipython3",
   "version": "3.13.5"
  }
 },
 "nbformat": 4,
 "nbformat_minor": 5
}
