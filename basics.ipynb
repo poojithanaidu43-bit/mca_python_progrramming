{
 "cells": [
  {
   "cell_type": "code",
   "execution_count": 1,
   "id": "ed953858",
   "metadata": {},
   "outputs": [
    {
     "data": {
      "text/plain": [
       "10"
      ]
     },
     "execution_count": 1,
     "metadata": {},
     "output_type": "execute_result"
    }
   ],
   "source": [
    "x = 10\n",
    "x"
   ]
  },
  {
   "cell_type": "code",
   "execution_count": 2,
   "id": "4835b763",
   "metadata": {},
   "outputs": [
    {
     "data": {
      "text/plain": [
       "'< <= > >= == !='"
      ]
     },
     "execution_count": 2,
     "metadata": {},
     "output_type": "execute_result"
    }
   ],
   "source": [
    "# comparision operators\n",
    "'< <= > >= == !='"
   ]
  },
  {
   "cell_type": "code",
   "execution_count": 6,
   "id": "eb4cda33",
   "metadata": {},
   "outputs": [],
   "source": [
    "x = 12\n",
    "y = 23"
   ]
  },
  {
   "cell_type": "code",
   "execution_count": 5,
   "id": "fe2a856d",
   "metadata": {},
   "outputs": [],
   "source": [
    "x , y = 13, 24\n",
    "a ,b, c = 2, 4, 120"
   ]
  },
  {
   "cell_type": "code",
   "execution_count": 7,
   "id": "2a5a2a81",
   "metadata": {},
   "outputs": [
    {
     "data": {
      "text/plain": [
       "False"
      ]
     },
     "execution_count": 7,
     "metadata": {},
     "output_type": "execute_result"
    }
   ],
   "source": [
    "x > y # if x is greater than y -> False"
   ]
  },
  {
   "cell_type": "code",
   "execution_count": 8,
   "id": "6a096373",
   "metadata": {},
   "outputs": [
    {
     "data": {
      "text/plain": [
       "False"
      ]
     },
     "execution_count": 8,
     "metadata": {},
     "output_type": "execute_result"
    }
   ],
   "source": [
    "x == 13"
   ]
  },
  {
   "cell_type": "code",
   "execution_count": 9,
   "id": "7ac9bf8b",
   "metadata": {},
   "outputs": [
    {
     "data": {
      "text/plain": [
       "True"
      ]
     },
     "execution_count": 9,
     "metadata": {},
     "output_type": "execute_result"
    }
   ],
   "source": [
    "y >= 23"
   ]
  },
  {
   "cell_type": "code",
   "execution_count": 10,
   "id": "230ac178",
   "metadata": {},
   "outputs": [
    {
     "name": "stdout",
     "output_type": "stream",
     "text": [
      "10.0\n",
      "20.0\n",
      "62.800000000000004\n",
      "314.0\n"
     ]
    }
   ],
   "source": [
    "radius = float(input(\"enter radius of circle\"))\n",
    "diameter = radius * 2\n",
    "circumference = 2 * 3.14 * radius\n",
    "area = 3.14 * radius ** 2 \n",
    "\n",
    "print(radius)\n",
    "print(diameter)\n",
    "print(circumference)\n",
    "print(area)"
   ]
  },
  {
   "cell_type": "code",
   "execution_count": 11,
   "id": "6c8d5f81",
   "metadata": {},
   "outputs": [
    {
     "name": "stdout",
     "output_type": "stream",
     "text": [
      "1000000\n",
      "15\n",
      "11\n",
      "1650000.0\n"
     ]
    }
   ],
   "source": [
    "# simple intrest\n",
    "p = 1000000\n",
    "r = 15\n",
    "t =11\n",
    "si = p*r*t/100\n",
    "print(p)\n",
    "print(r)\n",
    "print(t)\n",
    "print(si)"
   ]
  },
  {
   "cell_type": "code",
   "execution_count": 12,
   "id": "944a1a57",
   "metadata": {},
   "outputs": [
    {
     "name": "stdout",
     "output_type": "stream",
     "text": [
      "14568\n",
      "12.0\n",
      "12\n",
      "20977.92\n"
     ]
    }
   ],
   "source": [
    "# simple interest\n",
    "p = int(input(\"enter principle amount\"))\n",
    "r = float(input(\"enter the rate of interest\"))\n",
    "t = int(input(\"enter the year\"))\n",
    "si = p*r*t/100\n",
    "\n",
    "print(p)\n",
    "print(r)\n",
    "print(t)\n",
    "print(si)"
   ]
  },
  {
   "cell_type": "code",
   "execution_count": 13,
   "id": "a75fabd3",
   "metadata": {},
   "outputs": [
    {
     "name": "stdout",
     "output_type": "stream",
     "text": [
      "797.9148200000001\n"
     ]
    }
   ],
   "source": [
    "pi = 3.14\n",
    "r = 5.9\n",
    "h = 7.3\n",
    "v = pi*r**2*h #volume of cylinder\n",
    "print(v)"
   ]
  },
  {
   "cell_type": "code",
   "execution_count": 14,
   "id": "60ae96bc",
   "metadata": {},
   "outputs": [
    {
     "name": "stdout",
     "output_type": "stream",
     "text": [
      "7385.280000000001\n"
     ]
    }
   ],
   "source": [
    "pi = 3.14\n",
    "r = float(input(\"enter radius of cylinder:\"))\n",
    "h = float(input(\"height of cylinder:\"))\n",
    "v = pi*r**2*h #volume of cylinder\n",
    "print(v)"
   ]
  },
  {
   "cell_type": "code",
   "execution_count": 15,
   "id": "0b8402f3",
   "metadata": {},
   "outputs": [
    {
     "name": "stdout",
     "output_type": "stream",
     "text": [
      "this is an example\n",
      "one two three\n",
      "1 2 3 9\n",
      "35\n",
      "apple|||banana|||orange\n",
      "apple banana oranges\n"
     ]
    }
   ],
   "source": [
    "print(\"this is an example\")\n",
    "print(\"one\",\"two\",\"three\")\n",
    "print(\"1\",\"2\",\"3\",4 + 5)\n",
    "print(10 * 3 + 5)\n",
    "print(\"apple\",\"banana\",\"orange\", sep=\"|||\")\n",
    "print(\"apple\",\"banana\",\"oranges\")"
   ]
  },
  {
   "cell_type": "code",
   "execution_count": 16,
   "id": "375cf630",
   "metadata": {},
   "outputs": [
    {
     "name": "stdout",
     "output_type": "stream",
     "text": [
      "140000\n",
      "12.0\n",
      "11\n",
      "184800.0\n"
     ]
    }
   ],
   "source": [
    "# simple interest\n",
    "p = int(input(\"enter principle amount\"))\n",
    "r = float(input(\"enter the rate of interest\"))\n",
    "t = int(input(\"enter the year\"))\n",
    "si = p*r*t/100\n",
    "\n",
    "print(p)\n",
    "print(r)\n",
    "print(t)\n",
    "print(si)"
   ]
  },
  {
   "cell_type": "code",
   "execution_count": 17,
   "id": "0cc4ebba",
   "metadata": {},
   "outputs": [
    {
     "name": "stdout",
     "output_type": "stream",
     "text": [
      "1 2 3 4 5 0.5\n"
     ]
    }
   ],
   "source": [
    "print(1,2,3,4,5,1/2)"
   ]
  },
  {
   "cell_type": "code",
   "execution_count": 18,
   "id": "94a0a32d",
   "metadata": {},
   "outputs": [
    {
     "name": "stdout",
     "output_type": "stream",
     "text": [
      "1 2 3 4 5\n",
      "1234\n",
      "1,2,3,4,5,6\n",
      "1➡️2➡️3➡️4➡️5\n",
      "1\n",
      "2\n",
      "3\n",
      "4\n",
      "5\n",
      "1hello world2hello world3hello world4hello world5\n"
     ]
    }
   ],
   "source": [
    "print(1,2,3,4,5)\n",
    "print(1,2,3,4, sep=\"\")\n",
    "print(1,2,3,4,5,6,sep=',')\n",
    "print(1,2,3,4,5, sep='➡️')\n",
    "print(1,2,3,4,5,sep=\"\\n\")\n",
    "print(1,2,3,4,5, sep=\"hello world\")"
   ]
  },
  {
   "cell_type": "code",
   "execution_count": 19,
   "id": "609b3d6c",
   "metadata": {},
   "outputs": [
    {
     "name": "stdout",
     "output_type": "stream",
     "text": [
      "1 2 3 4 5\n",
      "1😊2😊3😊4\n",
      "1,2,3,4,5,6\n",
      "1➡️2➡️3➡️4➡️5\n",
      "1\n",
      "2\n",
      "3\n",
      "4\n",
      "5\n",
      "1hello world2hello world3hello world4hello world5\n",
      "a b c 🎶\n",
      "this is not me\n",
      "this is a python class 🐍\n",
      "this is not much intresting 🤣\n",
      "sai rammmmmmmmmmmm 🤣🤣🤣🤣\n"
     ]
    }
   ],
   "source": [
    "print(1,2,3,4,5)\n",
    "print(1,2,3,4, sep=\"😊\")\n",
    "print(1,2,3,4,5,6,sep=',')\n",
    "print(1,2,3,4,5, sep='➡️')\n",
    "print(1,2,3,4,5,sep=\"\\n\")\n",
    "print(1,2,3,4,5, sep=\"hello world\")\n",
    "print(\"a\",\"b\",\"c\",'🎶')\n",
    "print(\"this is not me\")\n",
    "print(\"this is a python class\",'🐍')\n",
    "print(\"this is not much intresting\",'🤣')\n",
    "print(\"sai rammmmmmmmmmmm\",'🤣🤣🤣🤣')"
   ]
  },
  {
   "cell_type": "code",
   "execution_count": 20,
   "id": "a903d19d",
   "metadata": {},
   "outputs": [
    {
     "name": "stdout",
     "output_type": "stream",
     "text": [
      "130\n",
      "Answer 130\n",
      "Answer 130\n",
      "100 + 30 => 130\n",
      "Answer 130\n",
      "100 + 30 = 130\n"
     ]
    }
   ],
   "source": [
    "a = 100\n",
    "b = 30 \n",
    "c = a + b\n",
    "print(c)\n",
    "print(\"Answer \"+str(c))\n",
    "print(\"Answer %d\"%c)     # not the best way\n",
    "print(\"%d + %d => %d\"%(a,b,c))  # also very complicated\n",
    "print(\"Answer {}\".format(c))  #old way (before python 3.6)\n",
    "print(\"{} + {} = {}\".format(a,b,c)) # old way"
   ]
  },
  {
   "cell_type": "code",
   "execution_count": 21,
   "id": "b8c7d6aa",
   "metadata": {},
   "outputs": [
    {
     "name": "stdout",
     "output_type": "stream",
     "text": [
      "Answer 130\n",
      "{a} + {b} = {c}\n"
     ]
    }
   ],
   "source": [
    "a = 100\n",
    "b = 30 \n",
    "c = a + b\n",
    "print(\"Answer {}\".format(c))  \n",
    "print(\"{a} + {b} = {c}\")"
   ]
  },
  {
   "cell_type": "code",
   "execution_count": 22,
   "id": "4e6540e2",
   "metadata": {},
   "outputs": [
    {
     "name": "stdout",
     "output_type": "stream",
     "text": [
      "Answer 130\n",
      "f{a} + {b} = {c}\n"
     ]
    }
   ],
   "source": [
    "a = 100\n",
    "b = 30 \n",
    "c = a + b\n",
    "print(f\"Answer {c}\")  \n",
    "print(\"f{a} + {b} = {c}\")"
   ]
  },
  {
   "cell_type": "code",
   "execution_count": 23,
   "id": "65c341c8",
   "metadata": {},
   "outputs": [
    {
     "name": "stdout",
     "output_type": "stream",
     "text": [
      "my name is Sam, i work as a Spy in Echeleon\n"
     ]
    }
   ],
   "source": [
    "name = \"Sam\"\n",
    "job  = \"Spy\"\n",
    "company = \"Echeleon\"\n",
    "print(f\"my name is {name}, i work as a {job} in {company}\")"
   ]
  },
  {
   "cell_type": "code",
   "execution_count": 24,
   "id": "1b02c858",
   "metadata": {},
   "outputs": [
    {
     "name": "stdout",
     "output_type": "stream",
     "text": [
      "hahaha\n"
     ]
    }
   ],
   "source": [
    "a = 'ha'\n",
    "b = 3\n",
    "print(a * b)"
   ]
  },
  {
   "cell_type": "code",
   "execution_count": null,
   "id": "e4a7f857",
   "metadata": {},
   "outputs": [],
   "source": []
  }
 ],
 "metadata": {
  "kernelspec": {
   "display_name": "Python 3",
   "language": "python",
   "name": "python3"
  },
  "language_info": {
   "codemirror_mode": {
    "name": "ipython",
    "version": 3
   },
   "file_extension": ".py",
   "mimetype": "text/x-python",
   "name": "python",
   "nbconvert_exporter": "python",
   "pygments_lexer": "ipython3",
   "version": "3.13.5"
  }
 },
 "nbformat": 4,
 "nbformat_minor": 5
}
