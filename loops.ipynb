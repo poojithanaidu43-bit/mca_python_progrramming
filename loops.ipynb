{
 "cells": [
  {
   "cell_type": "code",
   "execution_count": 1,
   "id": "a3fcf441",
   "metadata": {},
   "outputs": [
    {
     "name": "stdout",
     "output_type": "stream",
     "text": [
      "1\n",
      "1\n",
      "1\n",
      "1\n",
      "1\n"
     ]
    }
   ],
   "source": [
    "for _ in range(5):\n",
    "    print(1)"
   ]
  },
  {
   "cell_type": "code",
   "execution_count": 2,
   "id": "94546623",
   "metadata": {},
   "outputs": [
    {
     "name": "stdout",
     "output_type": "stream",
     "text": [
      "0\n",
      "1\n",
      "2\n",
      "3\n",
      "4\n",
      "5\n",
      "6\n",
      "7\n",
      "8\n",
      "9\n",
      "10\n",
      "11\n",
      "12\n",
      "13\n",
      "14\n",
      "15\n",
      "16\n",
      "17\n",
      "18\n",
      "19\n"
     ]
    }
   ],
   "source": [
    "for i in range(20):\n",
    "    print(i)"
   ]
  },
  {
   "cell_type": "code",
   "execution_count": 3,
   "id": "07f38ffc",
   "metadata": {},
   "outputs": [
    {
     "name": "stdout",
     "output_type": "stream",
     "text": [
      "This is a statement\n",
      "This is a statement\n",
      "This is a statement\n",
      "This is a statement\n",
      "This is a statement\n"
     ]
    }
   ],
   "source": [
    "for _ in range(5):\n",
    "    print(\"This is a statement\")"
   ]
  },
  {
   "cell_type": "code",
   "execution_count": 4,
   "id": "d92de01a",
   "metadata": {},
   "outputs": [
    {
     "name": "stdout",
     "output_type": "stream",
     "text": [
      "0\n",
      "1\n",
      "2\n",
      "3\n",
      "4\n"
     ]
    }
   ],
   "source": [
    "for i in range(5):\n",
    "    print(i)"
   ]
  },
  {
   "cell_type": "code",
   "execution_count": 5,
   "id": "4f63964e",
   "metadata": {},
   "outputs": [
    {
     "name": "stdout",
     "output_type": "stream",
     "text": [
      "0\n",
      "1\n",
      "2\n",
      "3\n",
      "4\n"
     ]
    }
   ],
   "source": [
    "for i in range(5):\n",
    "    print(i)"
   ]
  },
  {
   "cell_type": "code",
   "execution_count": 6,
   "id": "00ea3798",
   "metadata": {},
   "outputs": [
    {
     "name": "stdout",
     "output_type": "stream",
     "text": [
      "0\n",
      "1\n",
      "2\n",
      "3\n",
      "4\n",
      "5\n",
      "6\n",
      "7\n",
      "8\n",
      "9\n",
      "10\n",
      "11\n",
      "12\n",
      "13\n",
      "14\n"
     ]
    }
   ],
   "source": [
    "for i in range(15):\n",
    "    print(i)"
   ]
  },
  {
   "cell_type": "code",
   "execution_count": 7,
   "id": "273477c1",
   "metadata": {},
   "outputs": [
    {
     "name": "stdout",
     "output_type": "stream",
     "text": [
      "1\n",
      "2\n",
      "3\n",
      "4\n",
      "5\n",
      "6\n",
      "7\n",
      "8\n",
      "9\n",
      "10\n",
      "11\n",
      "12\n",
      "13\n",
      "14\n",
      "15\n"
     ]
    }
   ],
   "source": [
    "for x in range(1, 16):\n",
    "    print(x)"
   ]
  },
  {
   "cell_type": "code",
   "execution_count": 8,
   "id": "35e99615",
   "metadata": {},
   "outputs": [
    {
     "name": "stdout",
     "output_type": "stream",
     "text": [
      "5\n",
      "6\n",
      "7\n",
      "8\n",
      "9\n"
     ]
    }
   ],
   "source": [
    "a = 5\n",
    "b = 10\n",
    "for i in range(a, b):\n",
    "    print(i)"
   ]
  },
  {
   "cell_type": "code",
   "execution_count": 9,
   "id": "afc3d3e4",
   "metadata": {},
   "outputs": [
    {
     "name": "stdout",
     "output_type": "stream",
     "text": [
      "10 15 10\n",
      "10 15 11\n",
      "10 15 12\n",
      "10 15 13\n",
      "10 15 14\n"
     ]
    }
   ],
   "source": [
    "x = int(input(\"enter start\"))\n",
    "y = int(input(\"enter stop\"))\n",
    "for i in range(x, y):\n",
    "    print(x, y, i)"
   ]
  },
  {
   "cell_type": "code",
   "execution_count": 10,
   "id": "df47f9f6",
   "metadata": {},
   "outputs": [
    {
     "name": "stdout",
     "output_type": "stream",
     "text": [
      "12 * 1 = 12\n",
      "12 * 2 = 24\n",
      "12 * 3 = 36\n",
      "12 * 4 = 48\n",
      "12 * 5 = 60\n",
      "12 * 6 = 72\n",
      "12 * 7 = 84\n",
      "12 * 8 = 96\n",
      "12 * 9 = 108\n",
      "12 * 10 = 120\n"
     ]
    }
   ],
   "source": [
    "size = 10\n",
    "for i in range(1, size + 1):\n",
    "    print(f\"12 * {i} = {12 * i}\")"
   ]
  },
  {
   "cell_type": "code",
   "execution_count": 11,
   "id": "7324dcfe",
   "metadata": {},
   "outputs": [
    {
     "name": "stdout",
     "output_type": "stream",
     "text": [
      "1\n",
      "3\n",
      "5\n",
      "7\n",
      "9\n",
      "11\n",
      "13\n",
      "15\n",
      "17\n",
      "19\n"
     ]
    }
   ],
   "source": [
    "for i in range(1 ,20, 2):\n",
    "    print(i)"
   ]
  },
  {
   "cell_type": "code",
   "execution_count": 12,
   "id": "238743e2",
   "metadata": {},
   "outputs": [
    {
     "name": "stdout",
     "output_type": "stream",
     "text": [
      "0\n",
      "5\n",
      "10\n"
     ]
    }
   ],
   "source": [
    "for i in range(0,15,5):\n",
    "    print(i)"
   ]
  },
  {
   "cell_type": "code",
   "execution_count": 13,
   "id": "4db40651",
   "metadata": {},
   "outputs": [
    {
     "name": "stdout",
     "output_type": "stream",
     "text": [
      "10\n",
      "8\n",
      "6\n",
      "4\n",
      "2\n"
     ]
    }
   ],
   "source": [
    "for i in range(10,0,-2):\n",
    "    print(i)"
   ]
  },
  {
   "cell_type": "code",
   "execution_count": 14,
   "id": "d3162991",
   "metadata": {},
   "outputs": [
    {
     "name": "stdout",
     "output_type": "stream",
     "text": [
      "100 ,102 ,104 ,106 ,108 ,110 ,112 ,114 ,116 ,118 ,120 ,122 ,124 ,126 ,128 ,130 ,132 ,134 ,136 ,138 ,140 ,142 ,144 ,146 ,148 ,150 ,152 ,154 ,156 ,158 ,160 ,162 ,164 ,166 ,168 ,170 ,172 ,174 ,176 ,178 ,180 ,182 ,184 ,186 ,188 ,190 ,192 ,194 ,196 ,198 ,200 ,"
     ]
    }
   ],
   "source": [
    "for num in range(100,201,2):\n",
    "    print(num,end=\" ,\")"
   ]
  },
  {
   "cell_type": "code",
   "execution_count": 15,
   "id": "abe689fa",
   "metadata": {},
   "outputs": [
    {
     "name": "stdout",
     "output_type": "stream",
     "text": [
      "('red', 'blue', 'green')\n"
     ]
    }
   ],
   "source": [
    "colors =('red','blue','green')\n",
    "print(colors)"
   ]
  },
  {
   "cell_type": "code",
   "execution_count": null,
   "id": "2cf0d59d",
   "metadata": {},
   "outputs": [
    {
     "name": "stdout",
     "output_type": "stream",
     "text": [
      "red\n",
      "blue\n",
      "green\n"
     ]
    }
   ],
   "source": [
    "for color in colors:\n",
    "    print(color)       #formatted output"
   ]
  },
  {
   "cell_type": "code",
   "execution_count": 17,
   "id": "ed6c7fe8",
   "metadata": {},
   "outputs": [
    {
     "name": "stdout",
     "output_type": "stream",
     "text": [
      "('vip', 'sin', 'animal', 'kabirsingh')\n"
     ]
    }
   ],
   "source": [
    "movies = ('vip','sin','animal','kabirsingh')\n",
    "print(movies)"
   ]
  },
  {
   "cell_type": "code",
   "execution_count": 18,
   "id": "898472b7",
   "metadata": {},
   "outputs": [
    {
     "name": "stdout",
     "output_type": "stream",
     "text": [
      "vip\n",
      "sin\n",
      "animal\n",
      "kabirsingh\n"
     ]
    }
   ],
   "source": [
    "for movie in movies:\n",
    "    print(movie)"
   ]
  },
  {
   "cell_type": "code",
   "execution_count": 19,
   "id": "1bdaf512",
   "metadata": {},
   "outputs": [
    {
     "name": "stdout",
     "output_type": "stream",
     "text": [
      "('arya', 'i', 'red', 'puspha', 'dhee', 'mr.perfect', 'darling', 'lucky', 'bahubali')\n"
     ]
    }
   ],
   "source": [
    "movies = ('arya','i','red','puspha','dhee','mr.perfect','darling','lucky','bahubali')\n",
    "print(movies)"
   ]
  },
  {
   "cell_type": "code",
   "execution_count": 20,
   "id": "0d4763e5",
   "metadata": {},
   "outputs": [
    {
     "name": "stdout",
     "output_type": "stream",
     "text": [
      "arya\n",
      "i\n",
      "red\n",
      "puspha\n",
      "dhee\n",
      "mr.perfect\n",
      "darling\n",
      "lucky\n",
      "bahubali\n"
     ]
    }
   ],
   "source": [
    "for movie in movies:\n",
    "    print(movie)"
   ]
  },
  {
   "cell_type": "code",
   "execution_count": 21,
   "id": "5614780a",
   "metadata": {},
   "outputs": [
    {
     "name": "stdout",
     "output_type": "stream",
     "text": [
      "1 ,3 ,5 ,7 ,9 ,11 ,13 ,15 ,17 ,19 ,21 ,23 ,25 ,27 ,29 ,31 ,33 ,35 ,37 ,39 ,41 ,43 ,45 ,47 ,49 ,51 ,53 ,55 ,57 ,59 ,61 ,63 ,65 ,67 ,69 ,71 ,73 ,75 ,77 ,79 ,81 ,83 ,85 ,87 ,89 ,91 ,93 ,95 ,97 ,99 ,"
     ]
    }
   ],
   "source": [
    "for num in range(1,100,2):\n",
    "    print(num, end=\" ,\")"
   ]
  },
  {
   "cell_type": "code",
   "execution_count": 22,
   "id": "e7f29cc7",
   "metadata": {},
   "outputs": [
    {
     "name": "stdout",
     "output_type": "stream",
     "text": [
      "1 ,3 ,5 ,7 ,9 ,11 ,13 ,15 ,17 ,19 ,21 ,23 ,25 ,27 ,29 ,31 ,33 ,35 ,37 ,39 ,41 ,43 ,45 ,47 ,49 ,51 ,53 ,55 ,57 ,59 ,61 ,63 ,65 ,67 ,69 ,71 ,73 ,75 ,77 ,79 ,81 ,83 ,85 ,87 ,89 ,91 ,93 ,95 ,97 ,99 ,"
     ]
    }
   ],
   "source": [
    "for num in range(1,100,2):\n",
    "    print(num, end=\" ,\")"
   ]
  },
  {
   "cell_type": "code",
   "execution_count": 23,
   "id": "ed0595e0",
   "metadata": {},
   "outputs": [
    {
     "name": "stdout",
     "output_type": "stream",
     "text": [
      "-10 ,-7 ,-4 ,-1 ,2 ,5 ,8 ,"
     ]
    }
   ],
   "source": [
    "for i in range(-10,10,3):\n",
    "    print(i,end=\" ,\")"
   ]
  },
  {
   "cell_type": "code",
   "execution_count": 24,
   "id": "b4547732",
   "metadata": {},
   "outputs": [
    {
     "name": "stdout",
     "output_type": "stream",
     "text": [
      "2\n",
      "4\n",
      "6\n",
      "8\n",
      "10\n"
     ]
    }
   ],
   "source": [
    "for i in range(1,11):\n",
    "    if i % 2 == 0:\n",
    "        print(i)"
   ]
  },
  {
   "cell_type": "code",
   "execution_count": 25,
   "id": "3891e44b",
   "metadata": {},
   "outputs": [
    {
     "name": "stdout",
     "output_type": "stream",
     "text": [
      "1\n",
      "3\n",
      "5\n",
      "7\n",
      "9\n"
     ]
    }
   ],
   "source": [
    "for i in range(1,11):\n",
    "    if i % 2 != 0:\n",
    "        print(i)"
   ]
  },
  {
   "cell_type": "code",
   "execution_count": 26,
   "id": "39a02543",
   "metadata": {},
   "outputs": [
    {
     "name": "stdout",
     "output_type": "stream",
     "text": [
      "odd number\n",
      "odd number\n",
      "odd number\n",
      "odd number\n",
      "144\n",
      "odd number\n"
     ]
    }
   ],
   "source": [
    "nums=[1,5,11,3,12,15]\n",
    "for i in nums:\n",
    "    if i%2==0:    #display squares of even nums\n",
    "        s=i**2\n",
    "        print(s)\n",
    "    else:\n",
    "        print('odd number')"
   ]
  },
  {
   "cell_type": "code",
   "execution_count": 27,
   "id": "3b006377",
   "metadata": {},
   "outputs": [
    {
     "name": "stdout",
     "output_type": "stream",
     "text": [
      "1\n",
      "27\n",
      "125\n",
      "343\n"
     ]
    }
   ],
   "source": [
    "nums=[1,3,5,7]\n",
    "for i in nums:\n",
    "    if i%2!=0:\n",
    "        s=i**3\n",
    "        print(s)\n",
    "    else:\n",
    "        print('even number')"
   ]
  },
  {
   "cell_type": "code",
   "execution_count": 28,
   "id": "509e7b59",
   "metadata": {},
   "outputs": [
    {
     "name": "stdout",
     "output_type": "stream",
     "text": [
      "1\n",
      "125\n",
      "1331\n",
      "even number\n",
      "even number\n",
      "even number\n"
     ]
    }
   ],
   "source": [
    "nums=[1,5,11,3,12,15]\n",
    "for i in nums:\n",
    "    if i%3!=0:   \n",
    "        s=i**3   # displays cubes\n",
    "        print(s)\n",
    "    else:\n",
    "        print('even number')"
   ]
  },
  {
   "cell_type": "code",
   "execution_count": 29,
   "id": "dae14d1e",
   "metadata": {},
   "outputs": [
    {
     "name": "stdout",
     "output_type": "stream",
     "text": [
      "the area for 3 is 28.26\n",
      "the area for 5 is 78.5\n",
      "the area for 6 is 113.04\n",
      "the area for 11 is 379.94\n",
      "the area for 10 is 314.0\n"
     ]
    }
   ],
   "source": [
    "# calculate the area of circles\n",
    "# whose radius is given in list\n",
    "\n",
    "radius=[3,5,6,11,10]\n",
    "for r in radius:\n",
    "    area = 3.14*r**2\n",
    "    print(f\"the area for {r} is {area}\")"
   ]
  },
  {
   "cell_type": "code",
   "execution_count": 30,
   "id": "c703a2f0",
   "metadata": {},
   "outputs": [
    {
     "name": "stdout",
     "output_type": "stream",
     "text": [
      "freefire\n",
      "pubg\n",
      "mario\n",
      "pokemon\n",
      "formula\n",
      "duckhunt\n",
      "subwaysurf\n",
      "talkingtom\n",
      "callofduty\n",
      "blackmyth\n"
     ]
    }
   ],
   "source": [
    "videogames=['freefire','pubg','mario','pokemon','formula','duckhunt','subwaysurf','talkingtom','callofduty','blackmyth']\n",
    "for i in videogames:\n",
    "    print(i)"
   ]
  },
  {
   "cell_type": "code",
   "execution_count": 31,
   "id": "8dc95cc1",
   "metadata": {},
   "outputs": [
    {
     "name": "stdout",
     "output_type": "stream",
     "text": [
      "freefire\n",
      "formula\n"
     ]
    }
   ],
   "source": [
    "videogames=['freefire','pubg','mario','pokemon','formula','duckhunt','subwaysurf','talkingtom','callofduty','blackmyth']\n",
    "for name in videogames:\n",
    "    if name.startswith('f'):\n",
    "      print(name)"
   ]
  },
  {
   "cell_type": "code",
   "execution_count": 32,
   "id": "e9f838bc",
   "metadata": {},
   "outputs": [
    {
     "name": "stdout",
     "output_type": "stream",
     "text": [
      "talkingtom\n"
     ]
    }
   ],
   "source": [
    "videogames=['freefire','pubg','mario','pokemon','formula','duckhunt','subwaysurf','talkingtom','callofduty','blackmyth']\n",
    "for name in videogames:\n",
    "    if name.startswith('t'):\n",
    "      print(name)"
   ]
  },
  {
   "cell_type": "code",
   "execution_count": 33,
   "id": "8f9c9f16",
   "metadata": {},
   "outputs": [
    {
     "name": "stdout",
     "output_type": "stream",
     "text": [
      "book->the final empire\n",
      "book->the well of ascension\n",
      "book->the alloy of law\n",
      "book->hero of ages\n",
      "book->the way of kings\n"
     ]
    }
   ],
   "source": [
    "books=['the final empire','warbreaker','elantris','the well of ascension','the alloy of law','hero of ages','the way of kings']\n",
    "for book in books:\n",
    "    if \"the\" in book or \"of\" in book:\n",
    "        print(f'book->{book}')"
   ]
  },
  {
   "cell_type": "code",
   "execution_count": 34,
   "id": "aa75241f",
   "metadata": {},
   "outputs": [
    {
     "name": "stdout",
     "output_type": "stream",
     "text": [
      "165\n"
     ]
    }
   ],
   "source": [
    "total = 0\n",
    "for num in range(10,21):\n",
    "    total = total + num\n",
    "print(total)"
   ]
  },
  {
   "cell_type": "code",
   "execution_count": 35,
   "id": "346588c0",
   "metadata": {},
   "outputs": [
    {
     "name": "stdout",
     "output_type": "stream",
     "text": [
      "6704425728000\n"
     ]
    }
   ],
   "source": [
    "total = 1\n",
    "for num in range(10,21):\n",
    "    total = total * num\n",
    "print(total)"
   ]
  },
  {
   "cell_type": "code",
   "execution_count": 36,
   "id": "ac7b3a47",
   "metadata": {},
   "outputs": [
    {
     "name": "stdout",
     "output_type": "stream",
     "text": [
      "53\n"
     ]
    }
   ],
   "source": [
    "nums = [5,11,2,53,10,33]\n",
    "m = 0\n",
    "for num in nums:\n",
    "    if num > m:\n",
    "        m = num\n",
    "print(m)\n"
   ]
  },
  {
   "cell_type": "code",
   "execution_count": 37,
   "id": "df8c064b",
   "metadata": {},
   "outputs": [
    {
     "name": "stdout",
     "output_type": "stream",
     "text": [
      "6\n"
     ]
    }
   ],
   "source": [
    "nums = [1,2,3,4,5,6]\n",
    "m = 0\n",
    "for num in nums:\n",
    "    if num > m:\n",
    "        m = num\n",
    "print(m)"
   ]
  },
  {
   "cell_type": "code",
   "execution_count": 38,
   "id": "3f835343",
   "metadata": {},
   "outputs": [
    {
     "name": "stdout",
     "output_type": "stream",
     "text": [
      "total count=8\n"
     ]
    }
   ],
   "source": [
    "nums = [25,26,27,28,29,30,31,32,33,34,35,36,37,38,39,40,41,42,43,44,45,46,47,48,49,50]\n",
    "count = 0\n",
    "for i in nums:\n",
    "    if i%3==0:\n",
    "        count = count + 1\n",
    "print(f\"total count={count}\")"
   ]
  },
  {
   "cell_type": "code",
   "execution_count": 39,
   "id": "9860cf3e",
   "metadata": {},
   "outputs": [
    {
     "name": "stdout",
     "output_type": "stream",
     "text": [
      "total count=13\n"
     ]
    }
   ],
   "source": [
    "count = 0\n",
    "for i in nums:\n",
    "    if i%2==0:\n",
    "        count= count + 1\n",
    "print(f\"total count={count}\")"
   ]
  },
  {
   "cell_type": "code",
   "execution_count": 40,
   "id": "14a07481",
   "metadata": {},
   "outputs": [
    {
     "name": "stdout",
     "output_type": "stream",
     "text": [
      "count 9\n"
     ]
    }
   ],
   "source": [
    "movies = [\"Harry potter 1\",\"Harry potter 2\",\"Harry potter 3\",\"Harry potter 4\",\"Harry potter 5\",\"Harry potter 6\",\"Harry potter 7\",\"Harry potter 8\",\"Harry potter 8\"]\n",
    "movies_with_h = 0\n",
    "for movie in movies:\n",
    "    if movie.startswith(\"H\") or movie.startswith(\"h\"):\n",
    "        movies_with_h += 1\n",
    "print(\"count\",movies_with_h)"
   ]
  },
  {
   "cell_type": "code",
   "execution_count": 41,
   "id": "72e3e7cc",
   "metadata": {},
   "outputs": [
    {
     "name": "stdout",
     "output_type": "stream",
     "text": [
      "10 * 1\n",
      "10\n",
      "9 * 10\n",
      "90\n",
      "8 * 90\n",
      "720\n",
      "7 * 720\n",
      "5040\n",
      "6 * 5040\n",
      "30240\n",
      "5 * 30240\n",
      "151200\n",
      "4 * 151200\n",
      "604800\n",
      "3 * 604800\n",
      "1814400\n",
      "2 * 1814400\n",
      "3628800\n",
      "1 * 3628800\n",
      "3628800\n"
     ]
    }
   ],
   "source": [
    "# factorial\n",
    "num = 10\n",
    "fact = 1\n",
    "# you can use a backward or forward loop\n",
    "for i in range(num,0,-1):\n",
    "    print(f'{i} * {fact}')\n",
    "    fact = fact * i\n",
    "    print(fact)"
   ]
  },
  {
   "cell_type": "code",
   "execution_count": 42,
   "id": "d1c196d6",
   "metadata": {},
   "outputs": [
    {
     "name": "stdout",
     "output_type": "stream",
     "text": [
      "10 * 1\n",
      "9 * 10\n",
      "8 * 90\n",
      "7 * 720\n",
      "6 * 5040\n",
      "5 * 30240\n",
      "4 * 151200\n",
      "3 * 604800\n",
      "2 * 1814400\n",
      "1 * 3628800\n",
      "3628800\n"
     ]
    }
   ],
   "source": [
    "# factorial\n",
    "num = 10\n",
    "fact = 1\n",
    "# you can use a backward or forward loop\n",
    "for i in range(num,0,-1):\n",
    "    print(f'{i} * {fact}')\n",
    "    fact = fact * i\n",
    "print(fact)"
   ]
  },
  {
   "cell_type": "code",
   "execution_count": 43,
   "id": "6ceb4440",
   "metadata": {},
   "outputs": [
    {
     "name": "stdout",
     "output_type": "stream",
     "text": [
      "(i) * 1\n",
      "10\n",
      "(i) * 10\n",
      "90\n",
      "(i) * 90\n",
      "720\n",
      "(i) * 720\n",
      "5040\n",
      "(i) * 5040\n",
      "30240\n",
      "(i) * 30240\n",
      "151200\n",
      "(i) * 151200\n",
      "604800\n",
      "(i) * 604800\n",
      "1814400\n",
      "(i) * 1814400\n",
      "3628800\n",
      "(i) * 3628800\n",
      "3628800\n"
     ]
    }
   ],
   "source": [
    "# factorial\n",
    "num = 10\n",
    "fact = 1\n",
    "# you can use a backward or forward loop\n",
    "for i in range(num,0,-1):\n",
    "    print(f'(i) * {fact}')\n",
    "    fact = fact * i\n",
    "    print(fact)"
   ]
  },
  {
   "cell_type": "code",
   "execution_count": 44,
   "id": "5005d0eb",
   "metadata": {},
   "outputs": [
    {
     "name": "stdout",
     "output_type": "stream",
     "text": [
      "i = 1, j = 1\n",
      "i = 1, j = 2\n",
      "i = 1, j = 3\n",
      "i = 1, j = 4\n",
      "i = 1, j = 5\n",
      "i = 2, j = 1\n",
      "i = 2, j = 2\n",
      "i = 2, j = 3\n",
      "i = 2, j = 4\n",
      "i = 2, j = 5\n",
      "i = 3, j = 1\n",
      "i = 3, j = 2\n",
      "i = 3, j = 3\n",
      "i = 3, j = 4\n",
      "i = 3, j = 5\n",
      "i = 4, j = 1\n",
      "i = 4, j = 2\n",
      "i = 4, j = 3\n",
      "i = 4, j = 4\n",
      "i = 4, j = 5\n",
      "i = 5, j = 1\n",
      "i = 5, j = 2\n",
      "i = 5, j = 3\n",
      "i = 5, j = 4\n",
      "i = 5, j = 5\n",
      "i = 6, j = 1\n",
      "i = 6, j = 2\n",
      "i = 6, j = 3\n",
      "i = 6, j = 4\n",
      "i = 6, j = 5\n",
      "i = 7, j = 1\n",
      "i = 7, j = 2\n",
      "i = 7, j = 3\n",
      "i = 7, j = 4\n",
      "i = 7, j = 5\n",
      "i = 8, j = 1\n",
      "i = 8, j = 2\n",
      "i = 8, j = 3\n",
      "i = 8, j = 4\n",
      "i = 8, j = 5\n",
      "i = 9, j = 1\n",
      "i = 9, j = 2\n",
      "i = 9, j = 3\n",
      "i = 9, j = 4\n",
      "i = 9, j = 5\n",
      "i = 10, j = 1\n",
      "i = 10, j = 2\n",
      "i = 10, j = 3\n",
      "i = 10, j = 4\n",
      "i = 10, j = 5\n"
     ]
    }
   ],
   "source": [
    "# loops total 10*5 => 50 times\n",
    "for i in range(1, 11):  # loops 10 times\n",
    "    for j in range(1, 6):  # loops 5 times\n",
    "        print(f\"i = {i}, j = {j}\")"
   ]
  },
  {
   "cell_type": "code",
   "execution_count": 45,
   "id": "11b7eb32",
   "metadata": {},
   "outputs": [
    {
     "name": "stdout",
     "output_type": "stream",
     "text": [
      "1 2 3 4 5 \n",
      "1 2 3 4 5 \n",
      "1 2 3 4 5 \n",
      "1 2 3 4 5 \n",
      "1 2 3 4 5 \n"
     ]
    }
   ],
   "source": [
    "n = 6\n",
    "for i in range(1, n):\n",
    "    for j in range(1, n):\n",
    "        print(j, end=' ')  # dont change line till inner loop \n",
    "    print()   # change line for the outer loop"
   ]
  },
  {
   "cell_type": "code",
   "execution_count": 46,
   "id": "3dde8f69",
   "metadata": {},
   "outputs": [
    {
     "name": "stdout",
     "output_type": "stream",
     "text": [
      "1 1 1 1 1 \n",
      "2 2 2 2 2 \n",
      "3 3 3 3 3 \n",
      "4 4 4 4 4 \n",
      "5 5 5 5 5 \n"
     ]
    }
   ],
   "source": [
    "n = 6\n",
    "for i in range(1, n):\n",
    "    for j in range(1, n):\n",
    "        print(i, end=' ')  # dont change line till inner loop \n",
    "    print()   # change line for the outer loop"
   ]
  },
  {
   "cell_type": "code",
   "execution_count": 47,
   "id": "430b6aad",
   "metadata": {},
   "outputs": [
    {
     "name": "stdout",
     "output_type": "stream",
     "text": [
      "1 2 3 4 5 6 7 8 9 \n",
      "1 2 3 4 5 6 7 8 9 \n",
      "1 2 3 4 5 6 7 8 9 \n",
      "1 2 3 4 5 6 7 8 9 \n",
      "1 2 3 4 5 6 7 8 9 \n",
      "1 2 3 4 5 6 7 8 9 \n",
      "1 2 3 4 5 6 7 8 9 \n",
      "1 2 3 4 5 6 7 8 9 \n",
      "1 2 3 4 5 6 7 8 9 \n"
     ]
    }
   ],
   "source": [
    "n = 10\n",
    "for i in range(1, n):\n",
    "    for j in range(1, n):\n",
    "        print(j, end=' ')  # dont change line till inner loop \n",
    "    print()   # change line for the outer loop"
   ]
  },
  {
   "cell_type": "code",
   "execution_count": 48,
   "id": "f0b70ee6",
   "metadata": {},
   "outputs": [
    {
     "name": "stdout",
     "output_type": "stream",
     "text": [
      "1 1 1 1 1 1 1 1 1 1 1 1 1 1 \n",
      "2 2 2 2 2 2 2 2 2 2 2 2 2 2 \n",
      "3 3 3 3 3 3 3 3 3 3 3 3 3 3 \n",
      "4 4 4 4 4 4 4 4 4 4 4 4 4 4 \n",
      "5 5 5 5 5 5 5 5 5 5 5 5 5 5 \n",
      "6 6 6 6 6 6 6 6 6 6 6 6 6 6 \n",
      "7 7 7 7 7 7 7 7 7 7 7 7 7 7 \n",
      "8 8 8 8 8 8 8 8 8 8 8 8 8 8 \n",
      "9 9 9 9 9 9 9 9 9 9 9 9 9 9 \n",
      "10 10 10 10 10 10 10 10 10 10 10 10 10 10 \n",
      "11 11 11 11 11 11 11 11 11 11 11 11 11 11 \n",
      "12 12 12 12 12 12 12 12 12 12 12 12 12 12 \n",
      "13 13 13 13 13 13 13 13 13 13 13 13 13 13 \n",
      "14 14 14 14 14 14 14 14 14 14 14 14 14 14 \n"
     ]
    }
   ],
   "source": [
    "n = 15\n",
    "for i in range(1, n):\n",
    "    for j in range(1, n):\n",
    "        print(i, end=' ')  # dont change line till inner loop \n",
    "    print()   # change line for the outer loop"
   ]
  },
  {
   "cell_type": "markdown",
   "id": "580a396b",
   "metadata": {},
   "source": [
    "jump statements\n",
    "\n",
    "- continue - to skip a step\n",
    "- break- to stop the loop\n",
    "- always used with a condition inside a loop"
   ]
  },
  {
   "cell_type": "code",
   "execution_count": 49,
   "id": "1a3a2dde",
   "metadata": {},
   "outputs": [
    {
     "name": "stdout",
     "output_type": "stream",
     "text": [
      "1 2 4 5 7 8 10 11 13 14 16 17 19 20 22 23 "
     ]
    }
   ],
   "source": [
    "# skip every value divisible by 3\n",
    "for i in range(1,25):\n",
    "    if i%3==0:\n",
    "        continue\n",
    "    print(i , end=\" \")"
   ]
  },
  {
   "cell_type": "code",
   "execution_count": 50,
   "id": "70f0c27c",
   "metadata": {},
   "outputs": [
    {
     "name": "stdout",
     "output_type": "stream",
     "text": [
      "1 2 3 3 1 2 5 6 7 2 2 1 "
     ]
    }
   ],
   "source": [
    "data = [1,2,0,3,3,0,1,2,0,5,6,7,2,0,2,1]\n",
    "for i in data:\n",
    "    if i == 0:\n",
    "        continue\n",
    "    print(i, end=' ')"
   ]
  },
  {
   "cell_type": "code",
   "execution_count": 51,
   "id": "fe9751ef",
   "metadata": {},
   "outputs": [
    {
     "name": "stdout",
     "output_type": "stream",
     "text": [
      "1 2 3 4 5 6 7 "
     ]
    }
   ],
   "source": [
    "for i in range(1, 11):\n",
    "    if i == 8:\n",
    "        break\n",
    "    print(i, end=' ')"
   ]
  },
  {
   "cell_type": "code",
   "execution_count": 52,
   "id": "77d92bf7",
   "metadata": {},
   "outputs": [
    {
     "name": "stdout",
     "output_type": "stream",
     "text": [
      "enter 0 to stop the loop\n",
      "Total = 1\n"
     ]
    }
   ],
   "source": [
    "# add all values entered by user till he types 0\n",
    "total=0\n",
    "print(\"enter 0 to stop the loop\")\n",
    "for i in range(100):\n",
    "    value = int(input(\"enter a value\"))\n",
    "    if value == 0:\n",
    "        break\n",
    "    total += value # add the value to total\n",
    "print(F\"Total = {total}\")"
   ]
  },
  {
   "cell_type": "code",
   "execution_count": 53,
   "id": "9ea3ca88",
   "metadata": {},
   "outputs": [
    {
     "name": "stdout",
     "output_type": "stream",
     "text": [
      "2\n",
      "loop completed\n",
      "5\n",
      "loop completed\n",
      "8\n",
      "loop completed\n",
      "11\n",
      "loop completed\n",
      "15\n",
      "loop completed\n"
     ]
    }
   ],
   "source": [
    "nums = [2, 5, 8, 11, 15]\n",
    "for n in nums:\n",
    "    print(n)\n",
    "    print(\"loop completed\")"
   ]
  },
  {
   "cell_type": "code",
   "execution_count": 54,
   "id": "ecab482d",
   "metadata": {},
   "outputs": [
    {
     "name": "stdout",
     "output_type": "stream",
     "text": [
      "2\n",
      "loop completed\n",
      "5\n",
      "loop completed\n",
      "7\n",
      "loop completed\n"
     ]
    }
   ],
   "source": [
    "nums = [2,5,7,11,18]\n",
    "for n in nums:\n",
    "    if n > 10:\n",
    "        break\n",
    "    print(n)\n",
    "    print(\"loop completed\")"
   ]
  },
  {
   "cell_type": "code",
   "execution_count": 55,
   "id": "7faba75a",
   "metadata": {},
   "outputs": [
    {
     "name": "stdout",
     "output_type": "stream",
     "text": [
      "loop broken\n"
     ]
    }
   ],
   "source": [
    "value = int(input(\"enter breakpoint\"))\n",
    "nums = [1,2,3,4,5,6,11,15,20,25]\n",
    "for n in nums:\n",
    "    if value > n:\n",
    "        print(\"loop broken\")\n",
    "        break\n",
    "else:\n",
    "    print(\"loop completed\")"
   ]
  },
  {
   "cell_type": "code",
   "execution_count": 56,
   "id": "f6d59225",
   "metadata": {},
   "outputs": [
    {
     "name": "stdout",
     "output_type": "stream",
     "text": [
      "14 not a prime number\n"
     ]
    }
   ],
   "source": [
    "num = int(input(\"enter a number\"))\n",
    "for n in range(2, num):\n",
    "    if num%n == 0:\n",
    "        print(f\"{num} not a prime number\")\n",
    "        break"
   ]
  },
  {
   "cell_type": "code",
   "execution_count": 57,
   "id": "b84260f3",
   "metadata": {},
   "outputs": [
    {
     "name": "stdout",
     "output_type": "stream",
     "text": [
      "20 not a prime number\n"
     ]
    }
   ],
   "source": [
    "num = int(input(\"enter a number\"))\n",
    "for n in range(2, num):\n",
    "    if num%n == 0:\n",
    "        print(f\"{num} not a prime number\")\n",
    "        break\n",
    "else:\n",
    "    print(f\"{num} is prime number\")"
   ]
  },
  {
   "cell_type": "code",
   "execution_count": 58,
   "id": "79dbe9af",
   "metadata": {},
   "outputs": [
    {
     "name": "stdout",
     "output_type": "stream",
     "text": [
      "50 45 40 35 30 25 20 15 10 5 "
     ]
    }
   ],
   "source": [
    "x = 50\n",
    "while x > 0:\n",
    "    print(x ,end = \" \")\n",
    "    x -= 5"
   ]
  },
  {
   "cell_type": "code",
   "execution_count": null,
   "id": "bb63ec91",
   "metadata": {},
   "outputs": [],
   "source": []
  }
 ],
 "metadata": {
  "kernelspec": {
   "display_name": "Python 3",
   "language": "python",
   "name": "python3"
  },
  "language_info": {
   "codemirror_mode": {
    "name": "ipython",
    "version": 3
   },
   "file_extension": ".py",
   "mimetype": "text/x-python",
   "name": "python",
   "nbconvert_exporter": "python",
   "pygments_lexer": "ipython3",
   "version": "3.13.5"
  }
 },
 "nbformat": 4,
 "nbformat_minor": 5
}
