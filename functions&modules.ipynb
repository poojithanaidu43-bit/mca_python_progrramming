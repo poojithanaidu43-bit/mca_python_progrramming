{
 "cells": [
  {
   "cell_type": "code",
   "execution_count": null,
   "id": "134e5081",
   "metadata": {},
   "outputs": [],
   "source": []
  },
  {
   "cell_type": "markdown",
   "id": "7b29bdde",
   "metadata": {},
   "source": [
    "function syntax:\n",
    "def funcname([parameter]):\n",
    "statement1\n",
    "statement2\n"
   ]
  },
  {
   "cell_type": "code",
   "execution_count": 2,
   "id": "2a44f200",
   "metadata": {},
   "outputs": [],
   "source": [
    "def total(a,b,c):\n",
    "    ans=a+b+c\n",
    "    print(f'total={ans}')\n",
    "    total(10,20,30)"
   ]
  },
  {
   "cell_type": "code",
   "execution_count": 4,
   "id": "f84c25ab",
   "metadata": {},
   "outputs": [
    {
     "name": "stdout",
     "output_type": "stream",
     "text": [
      "Hello\n",
      "Hello\n",
      "Hello\n"
     ]
    }
   ],
   "source": [
    "def msg():\n",
    "    print(\"Hello\")\n",
    "msg()\n",
    "msg()\n",
    "msg()"
   ]
  },
  {
   "cell_type": "code",
   "execution_count": 5,
   "id": "15890aac",
   "metadata": {},
   "outputs": [],
   "source": [
    "def mul(a,b):\n",
    "    print(a*b)"
   ]
  },
  {
   "cell_type": "code",
   "execution_count": 6,
   "id": "7893b7c9",
   "metadata": {},
   "outputs": [
    {
     "name": "stdout",
     "output_type": "stream",
     "text": [
      "6\n"
     ]
    }
   ],
   "source": [
    "mul(2,3)"
   ]
  },
  {
   "cell_type": "code",
   "execution_count": 7,
   "id": "59893d71",
   "metadata": {},
   "outputs": [
    {
     "name": "stdout",
     "output_type": "stream",
     "text": [
      "2625\n"
     ]
    }
   ],
   "source": [
    "mul(15,175)"
   ]
  },
  {
   "cell_type": "code",
   "execution_count": 8,
   "id": "7064d4e6",
   "metadata": {},
   "outputs": [
    {
     "name": "stdout",
     "output_type": "stream",
     "text": [
      "75\n"
     ]
    }
   ],
   "source": [
    "mul(5,15)"
   ]
  },
  {
   "cell_type": "code",
   "execution_count": null,
   "id": "7ec2ded7",
   "metadata": {},
   "outputs": [],
   "source": [
    "#IMPORT MATHS\n",
    "def hyp(p,b):\n",
    "    ans=math.sqrt(p**2+b**2)\n",
    "    return ans\n",
    "hyp(10,5)\n",
    "\n"
   ]
  },
  {
   "cell_type": "code",
   "execution_count": 26,
   "id": "320afab0",
   "metadata": {},
   "outputs": [
    {
     "name": "stdout",
     "output_type": "stream",
     "text": [
      "Good job\n"
     ]
    }
   ],
   "source": [
    "x=int(input('enter evennum'))\n",
    "if is_even(x):\n",
    "    print(\"Good job\")\n",
    "else:\n",
    "    print(\"You are stupid\")    "
   ]
  },
  {
   "cell_type": "markdown",
   "id": "bf50bb6a",
   "metadata": {},
   "source": [
    "convention while creating functions\n",
    "1.Dont take input inside function\n",
    "2.Return the value from the function\n",
    "3.use parameter to pass input to function\n",
    "4.keep it small&simple"
   ]
  },
  {
   "cell_type": "code",
   "execution_count": 30,
   "id": "125e19d7",
   "metadata": {},
   "outputs": [
    {
     "data": {
      "text/plain": [
       "False"
      ]
     },
     "execution_count": 30,
     "metadata": {},
     "output_type": "execute_result"
    }
   ],
   "source": [
    "def is_even(num):\n",
    "    if num%2==0:\n",
    "        return True\n",
    "    else:\n",
    "        return False\n",
    "is_even(23)"
   ]
  }
 ],
 "metadata": {
  "kernelspec": {
   "display_name": "Python 3",
   "language": "python",
   "name": "python3"
  },
  "language_info": {
   "codemirror_mode": {
    "name": "ipython",
    "version": 3
   },
   "file_extension": ".py",
   "mimetype": "text/x-python",
   "name": "python",
   "nbconvert_exporter": "python",
   "pygments_lexer": "ipython3",
   "version": "3.13.5"
  }
 },
 "nbformat": 4,
 "nbformat_minor": 5
}
