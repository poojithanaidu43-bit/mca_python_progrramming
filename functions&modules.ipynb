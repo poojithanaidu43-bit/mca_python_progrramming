{
 "cells": [
  {
   "cell_type": "code",
   "execution_count": null,
   "id": "134e5081",
   "metadata": {},
   "outputs": [],
   "source": []
  },
  {
   "cell_type": "markdown",
   "id": "7b29bdde",
   "metadata": {},
   "source": [
    "function syntax:\n",
    "def funcname([parameter]):\n",
    "statement1\n",
    "statement2\n"
   ]
  },
  {
   "cell_type": "code",
   "execution_count": 2,
   "id": "2a44f200",
   "metadata": {},
   "outputs": [],
   "source": [
    "def total(a,b,c):\n",
    "    ans=a+b+c\n",
    "    print(f'total={ans}')\n",
    "    total(10,20,30)"
   ]
  },
  {
   "cell_type": "code",
   "execution_count": 4,
   "id": "f84c25ab",
   "metadata": {},
   "outputs": [
    {
     "name": "stdout",
     "output_type": "stream",
     "text": [
      "Hello\n",
      "Hello\n",
      "Hello\n"
     ]
    }
   ],
   "source": [
    "def msg():\n",
    "    print(\"Hello\")\n",
    "msg()\n",
    "msg()\n",
    "msg()"
   ]
  },
  {
   "cell_type": "code",
   "execution_count": 5,
   "id": "15890aac",
   "metadata": {},
   "outputs": [],
   "source": [
    "def mul(a,b):\n",
    "    print(a*b)"
   ]
  },
  {
   "cell_type": "markdown",
   "id": "009f24c7",
   "metadata": {},
   "source": []
  },
  {
   "cell_type": "code",
   "execution_count": 6,
   "id": "7893b7c9",
   "metadata": {},
   "outputs": [
    {
     "name": "stdout",
     "output_type": "stream",
     "text": [
      "6\n"
     ]
    }
   ],
   "source": [
    "mul(2,3)"
   ]
  },
  {
   "cell_type": "code",
   "execution_count": 7,
   "id": "59893d71",
   "metadata": {},
   "outputs": [
    {
     "name": "stdout",
     "output_type": "stream",
     "text": [
      "2625\n"
     ]
    }
   ],
   "source": [
    "mul(15,175)"
   ]
  },
  {
   "cell_type": "code",
   "execution_count": 8,
   "id": "7064d4e6",
   "metadata": {},
   "outputs": [
    {
     "name": "stdout",
     "output_type": "stream",
     "text": [
      "75\n"
     ]
    }
   ],
   "source": [
    "mul(5,15)"
   ]
  },
  {
   "cell_type": "code",
   "execution_count": null,
   "id": "7ec2ded7",
   "metadata": {},
   "outputs": [],
   "source": [
    "#IMPORT MATHS\n",
    "def hyp(p,b):\n",
    "    ans=math.sqrt(p**2+b**2)\n",
    "    return ans\n",
    "hyp(10,5)\n",
    "\n"
   ]
  },
  {
   "cell_type": "code",
   "execution_count": 26,
   "id": "320afab0",
   "metadata": {},
   "outputs": [
    {
     "name": "stdout",
     "output_type": "stream",
     "text": [
      "Good job\n"
     ]
    }
   ],
   "source": [
    "x=int(input('enter evennum'))\n",
    "if is_even(x):\n",
    "    print(\"Good job\")\n",
    "else:\n",
    "    print(\"You are stupid\")    "
   ]
  },
  {
   "cell_type": "markdown",
   "id": "bf50bb6a",
   "metadata": {},
   "source": [
    "convention while creating functions \n",
    "1.Dont take input inside function   \n",
    "2.Return the value from the function    \n",
    "3.use parameter to pass input to function   \n",
    "4.keep it small&simple  "
   ]
  },
  {
   "cell_type": "code",
   "execution_count": 30,
   "id": "125e19d7",
   "metadata": {},
   "outputs": [
    {
     "data": {
      "text/plain": [
       "False"
      ]
     },
     "execution_count": 30,
     "metadata": {},
     "output_type": "execute_result"
    }
   ],
   "source": [
    "def is_even(num):\n",
    "    if num%2==0:\n",
    "        return True\n",
    "    else:\n",
    "        return False\n",
    "is_even(23)"
   ]
  },
  {
   "cell_type": "code",
   "execution_count": 1,
   "id": "99eb69db",
   "metadata": {},
   "outputs": [
    {
     "name": "stdout",
     "output_type": "stream",
     "text": [
      "50\n"
     ]
    }
   ],
   "source": [
    "# 1.Required parameter\n",
    "def area(l,b):\n",
    "  return l*b\n",
    "ans=area(10,5)\n",
    "print(ans)\n"
   ]
  },
  {
   "cell_type": "code",
   "execution_count": 2,
   "id": "edf5a26a",
   "metadata": {},
   "outputs": [
    {
     "name": "stdout",
     "output_type": "stream",
     "text": [
      "65\n"
     ]
    }
   ],
   "source": [
    "# 2.Named parameter calls\n",
    "res=area(l=5,b=13)\n",
    "print(res)"
   ]
  },
  {
   "cell_type": "code",
   "execution_count": 10,
   "id": "60ab1e70",
   "metadata": {},
   "outputs": [
    {
     "name": "stdout",
     "output_type": "stream",
     "text": [
      "1650.0\n"
     ]
    }
   ],
   "source": [
    "def si(p,r,t):\n",
    "    return p*r*t/100\n",
    "interest=si(p=10000,r=3.3,t=5)\n",
    "print(interest)"
   ]
  },
  {
   "cell_type": "code",
   "execution_count": 11,
   "id": "d10894c9",
   "metadata": {},
   "outputs": [
    {
     "name": "stdout",
     "output_type": "stream",
     "text": [
      "1000\n",
      "100\n"
     ]
    }
   ],
   "source": [
    "# 3.default parameter\n",
    "def pow (n,e=2):\n",
    "    return n**e\n",
    "print(pow(10,3))\n",
    "print(pow(10))"
   ]
  },
  {
   "cell_type": "code",
   "execution_count": null,
   "id": "5dfa5e5f",
   "metadata": {},
   "outputs": [],
   "source": []
  },
  {
   "cell_type": "code",
   "execution_count": 12,
   "id": "911be502",
   "metadata": {},
   "outputs": [
    {
     "data": {
      "text/plain": [
       "10"
      ]
     },
     "execution_count": 12,
     "metadata": {},
     "output_type": "execute_result"
    }
   ],
   "source": [
    "def adder (a,b=0,c=0,d=0):\n",
    "    return a+b+c+d\n",
    "adder(10)"
   ]
  },
  {
   "cell_type": "code",
   "execution_count": 13,
   "id": "ffc975bf",
   "metadata": {},
   "outputs": [
    {
     "data": {
      "text/plain": [
       "9"
      ]
     },
     "execution_count": 13,
     "metadata": {},
     "output_type": "execute_result"
    }
   ],
   "source": [
    "adder(5,4)"
   ]
  },
  {
   "cell_type": "code",
   "execution_count": 14,
   "id": "5ddecfe1",
   "metadata": {},
   "outputs": [
    {
     "data": {
      "text/plain": [
       "10"
      ]
     },
     "execution_count": 14,
     "metadata": {},
     "output_type": "execute_result"
    }
   ],
   "source": [
    "adder(2,3,5)"
   ]
  },
  {
   "cell_type": "code",
   "execution_count": 15,
   "id": "218e91f6",
   "metadata": {},
   "outputs": [
    {
     "data": {
      "text/plain": [
       "14"
      ]
     },
     "execution_count": 15,
     "metadata": {},
     "output_type": "execute_result"
    }
   ],
   "source": [
    "adder(5,4,3,2)"
   ]
  },
  {
   "cell_type": "code",
   "execution_count": 16,
   "id": "0c0d449e",
   "metadata": {},
   "outputs": [
    {
     "data": {
      "text/plain": [
       "22"
      ]
     },
     "execution_count": 16,
     "metadata": {},
     "output_type": "execute_result"
    }
   ],
   "source": [
    "adder(a=10,c=10,d=2)"
   ]
  },
  {
   "cell_type": "code",
   "execution_count": 17,
   "id": "53b6143c",
   "metadata": {},
   "outputs": [
    {
     "name": "stdout",
     "output_type": "stream",
     "text": [
      "hola\n"
     ]
    }
   ],
   "source": [
    "def h1():\n",
    "    print(\"hola\")\n",
    "h1()"
   ]
  },
  {
   "cell_type": "code",
   "execution_count": 2,
   "id": "b19c2203",
   "metadata": {},
   "outputs": [],
   "source": [
    "def ctof(val):\n",
    "    f=(val*9%5)+32\n",
    "    return f"
   ]
  },
  {
   "cell_type": "code",
   "execution_count": 4,
   "id": "660ef1b7",
   "metadata": {},
   "outputs": [],
   "source": [
    "def greeting():\n",
    "    print(\"🌟\"*5)\n",
    "    printt(\"Good Morning\")\n",
    "    print(\"🌟\"*5)\n",
    "    #call\n",
    "    greeting()  #no parameter and no return value"
   ]
  },
  {
   "cell_type": "code",
   "execution_count": 8,
   "id": "7dc3fd51",
   "metadata": {},
   "outputs": [
    {
     "name": "stdout",
     "output_type": "stream",
     "text": [
      "🍀\n",
      "🍀\n",
      "🤞\n",
      "👍\n"
     ]
    }
   ],
   "source": [
    "def dice_roll():\n",
    "    import random\n",
    "    out={1:'👍',2:'🤞',3:'👌',4:'🍀',5:'✋',6:'👑'}\n",
    "    value=random.randint(1,6)#select a random between 1-6\n",
    "    return out.get(value)\n",
    "\n",
    "dice_roll()\n",
    "print(dice_roll())\n",
    "print(dice_roll())\n",
    "print(dice_roll())\n",
    "print(dice_roll())\n"
   ]
  },
  {
   "cell_type": "code",
   "execution_count": 12,
   "id": "dc9c775e",
   "metadata": {},
   "outputs": [
    {
     "name": "stdout",
     "output_type": "stream",
     "text": [
      "False\n",
      "True\n",
      "True\n",
      "False\n"
     ]
    }
   ],
   "source": [
    "def is_valid_password(pwd):\n",
    "    if len(pwd)< 8: return False\n",
    "    if not pwd.isalnum():return False\n",
    "    return True\n",
    "print(is_valid_password(\"hello\"))\n",
    "print(is_valid_password(\"helloworld\"))\n",
    "print(is_valid_password(\"helloworld10\"))\n",
    "print(is_valid_password(\"0307@8003\"))"
   ]
  },
  {
   "cell_type": "code",
   "execution_count": 10,
   "id": "15f9fe0c",
   "metadata": {},
   "outputs": [
    {
     "name": "stdout",
     "output_type": "stream",
     "text": [
      "area=180\n"
     ]
    }
   ],
   "source": [
    "#proper function syntax in python\n",
    "def area(length:int,breadth:int)->int:\n",
    "    return length*breadth\n",
    "\n",
    "l=12\n",
    "b=15\n",
    "a=area(l,b)\n",
    "print(f'area={a}')"
   ]
  },
  {
   "cell_type": "code",
   "execution_count": 15,
   "id": "55cfe633",
   "metadata": {},
   "outputs": [
    {
     "name": "stdout",
     "output_type": "stream",
     "text": [
      "He11o\n",
      "HI\n"
     ]
    }
   ],
   "source": [
    "#default args\n",
    "def cleanText(data,to_remove=\"@$#%\"):\n",
    "    newdata=data\n",
    "    for char in to_remove:\n",
    "        newdata=newdata.replace(char,'')\n",
    "    return newdata\n",
    "\n",
    "cText=cleantext(\"He#11#o@\")\n",
    "print(cText)\n",
    "cText2=cleanText(\"H@!()#!)@I\",to_remove='@!#()') \n",
    "print(cText2)\n"
   ]
  },
  {
   "cell_type": "code",
   "execution_count": 20,
   "id": "5dbab7ef",
   "metadata": {},
   "outputs": [
    {
     "data": {
      "text/plain": [
       "26"
      ]
     },
     "execution_count": 20,
     "metadata": {},
     "output_type": "execute_result"
    }
   ],
   "source": [
    "def add100(a,b,c,d,e,f,g,h,i,j,k,l,m,n,o,p,q,r,s,t,u,v,w,x,y,z):\n",
    "    return a+b+c+d+e+f+g+h+i+j+k+l+m+n+o+p+q+r+s+t+u+v+w+x+y+z\n",
    "\n",
    "\n",
    "add100(1,1,1,1,1,1,1,1,1,1,1,1,1,1,1,1,1,1,1,1,1,1,1,1,1,1)"
   ]
  },
  {
   "cell_type": "code",
   "execution_count": null,
   "id": "6e93878e",
   "metadata": {},
   "outputs": [],
   "source": [
    "###Variable Arguments in python\n",
    "A function can have variable arguments in python using *symbol before a parameter in the function definition.this allows the\n",
    "function to accept any number of positional argumennnts as a tuple"
   ]
  },
  {
   "cell_type": "code",
   "execution_count": 21,
   "id": "be824c32",
   "metadata": {},
   "outputs": [
    {
     "name": "stdout",
     "output_type": "stream",
     "text": [
      "1\n",
      "24\n",
      "79833600\n"
     ]
    }
   ],
   "source": [
    "def multiplier(*numbers):\n",
    "    result=1\n",
    "    for value in numbers:\n",
    "        result *=value\n",
    "    return result\n",
    "\n",
    "print(multiplier())\n",
    "print(multiplier(2,3,4))\n",
    "print(multiplier(2,3,4,3,5,6,3,1,22,5,56,2))    "
   ]
  },
  {
   "cell_type": "code",
   "execution_count": 31,
   "id": "4a966a48",
   "metadata": {},
   "outputs": [
    {
     "name": "stdout",
     "output_type": "stream",
     "text": [
      "120\n",
      "120\n",
      "2160\n"
     ]
    }
   ],
   "source": [
    "def operate(*args,operator=\"*\"):\n",
    "    if operator=='*':\n",
    "        result=1\n",
    "        for num in args:\n",
    "            result*=num\n",
    "        return result\n",
    "    elif operator=='+':\n",
    "        result=1\n",
    "        for num in args:\n",
    "            result*=num\n",
    "        return result\n",
    "    elif operator=='+':\n",
    "        result=0\n",
    "        for num in args:\n",
    "            result+=num\n",
    "        return result\n",
    "    else:\n",
    "        return \"Wrong operator give,please provide +or *\"   \n",
    "\n",
    "print(operate(1,2,3,4,5))\n",
    "print(operate(1,2,3,4,5,operator=\"+\"))\n",
    "print(operate(3,4,5,6,6,operator=\"*\"))     "
   ]
  },
  {
   "cell_type": "code",
   "execution_count": 32,
   "id": "74ddde18",
   "metadata": {},
   "outputs": [
    {
     "name": "stdout",
     "output_type": "stream",
     "text": [
      "<function <lambda> at 0x000001FFD1DDBE20>\n"
     ]
    }
   ],
   "source": [
    "f=lambda x:x*2+10\n",
    "print(f)\n",
    "\n"
   ]
  },
  {
   "cell_type": "code",
   "execution_count": 33,
   "id": "c8afddbb",
   "metadata": {},
   "outputs": [
    {
     "name": "stdout",
     "output_type": "stream",
     "text": [
      "14\n",
      "20\n",
      "30\n"
     ]
    }
   ],
   "source": [
    "print(f(2))\n",
    "print(f(5))\n",
    "print(f(10))"
   ]
  },
  {
   "cell_type": "code",
   "execution_count": 34,
   "id": "00183aab",
   "metadata": {},
   "outputs": [
    {
     "name": "stdout",
     "output_type": "stream",
     "text": [
      "13\n",
      "65\n"
     ]
    }
   ],
   "source": [
    "g=lambda x,y:x*y+x+10\n",
    "print(g(1,2))\n",
    "print(g(5,10))"
   ]
  },
  {
   "cell_type": "code",
   "execution_count": 35,
   "id": "65065a24",
   "metadata": {},
   "outputs": [
    {
     "name": "stdout",
     "output_type": "stream",
     "text": [
      "1\n",
      "2\n",
      "3\n",
      "4\n",
      "5\n",
      "[1, 2, 3, 4, 5, 6, 7, 8, 9]\n"
     ]
    }
   ],
   "source": [
    "for i in range(1,6):print(i)\n",
    "\n",
    "print(list(range(1,10)))"
   ]
  },
  {
   "cell_type": "code",
   "execution_count": 40,
   "id": "8560d1b4",
   "metadata": {},
   "outputs": [
    {
     "name": "stdout",
     "output_type": "stream",
     "text": [
      "Square 1\n",
      "Square 4\n",
      "Square 9\n",
      "Square 16\n",
      "Square 25\n",
      "Square 36\n",
      "Square 49\n",
      "Square 64\n",
      "[484, 1089, 3025]\n"
     ]
    }
   ],
   "source": [
    "def squared(data):\n",
    "    for i in data:\n",
    "        yield i**2\n",
    "\n",
    "for num in squared([1,2,3,4,5,6,7,8]):\n",
    "     print(\"Square\",num) \n",
    "\n",
    " \n",
    "print(list(squared([22,33,55])))    \n",
    "\n",
    "\n",
    "\n",
    "\n",
    "\n",
    "\n",
    "\n",
    "        "
   ]
  },
  {
   "cell_type": "code",
   "execution_count": 1,
   "id": "fae0f1a8",
   "metadata": {},
   "outputs": [],
   "source": [
    "import helper"
   ]
  },
  {
   "cell_type": "code",
   "execution_count": 3,
   "id": "11a4046c",
   "metadata": {},
   "outputs": [],
   "source": [
    "a=helper.calcAreaofcircle(10)"
   ]
  },
  {
   "cell_type": "markdown",
   "id": "2cdc2886",
   "metadata": {},
   "source": [
    "# four ways to import the modules\n",
    "1.import the entire module \n",
    "import module_name\n",
    "2,import specific functions rom a modulle\n",
    "from module_name import function 1,function2\n",
    "3.import all functions from module\n",
    "from module_name import*\n",
    "4.import a module\n"
   ]
  },
  {
   "cell_type": "code",
   "execution_count": 12,
   "id": "7fd62484",
   "metadata": {},
   "outputs": [],
   "source": [
    "import helper\n",
    "import helper as h\n",
    "from helper import calcAreaofcircle\n",
    "from helper import * \n"
   ]
  },
  {
   "cell_type": "markdown",
   "id": "93048558",
   "metadata": {},
   "source": []
  },
  {
   "cell_type": "markdown",
   "id": "5f4a2284",
   "metadata": {},
   "source": []
  },
  {
   "cell_type": "code",
   "execution_count": null,
   "id": "d7f0aebc",
   "metadata": {},
   "outputs": [],
   "source": []
  }
 ],
 "metadata": {
  "kernelspec": {
   "display_name": "Python 3",
   "language": "python",
   "name": "python3"
  },
  "language_info": {
   "codemirror_mode": {
    "name": "ipython",
    "version": 3
   },
   "file_extension": ".py",
   "mimetype": "text/x-python",
   "name": "python",
   "nbconvert_exporter": "python",
   "pygments_lexer": "ipython3",
   "version": "3.13.5"
  }
 },
 "nbformat": 4,
 "nbformat_minor": 5
}
