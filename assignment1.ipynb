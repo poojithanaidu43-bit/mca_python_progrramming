{
 "cells": [
  {
   "cell_type": "code",
   "execution_count": 1,
   "id": "7c25060b",
   "metadata": {},
   "outputs": [
    {
     "name": "stdout",
     "output_type": "stream",
     "text": [
      "After swapping:\n",
      "First value: b\n",
      "Second value: a\n"
     ]
    }
   ],
   "source": [
    "a = input(\"Enter the first value: \")\n",
    "b = input(\"Enter the second value: \")\n",
    "\n",
    "a, b = b, a\n",
    "\n",
    "print(\"After swapping:\")\n",
    "print(\"First value:\", a)\n",
    "print(\"Second value:\", b)"
   ]
  },
  {
   "cell_type": "code",
   "execution_count": 3,
   "id": "dcbbb957",
   "metadata": {},
   "outputs": [
    {
     "name": "stdout",
     "output_type": "stream",
     "text": [
      "Result: 35\n"
     ]
    }
   ],
   "source": [
    "num1 = input(\"Enter first number: \")\n",
    "operator = input(\"Enter operator (+, -, *, /): \")\n",
    "num2 = input(\"Enter second number: \")\n",
    "expression = num1 + operator + num2\n",
    "result = eval(expression)\n",
    "# 10 + 25 = 35\n",
    "print(\"Result:\", result)"
   ]
  },
  {
   "cell_type": "code",
   "execution_count": 4,
   "id": "a9766442",
   "metadata": {},
   "outputs": [
    {
     "name": "stdout",
     "output_type": "stream",
     "text": [
      "Integer value: 20 | Type: <class 'int'>\n",
      "Float value: 20.0 | Type: <class 'float'>\n"
     ]
    }
   ],
   "source": [
    "num_str = input(\"Enter a number: \")\n",
    "num_int = int(num_str)\n",
    "num_float = float(num_str)\n",
    "print(\"Integer value:\", num_int, \"| Type:\", type(num_int))\n",
    "print(\"Float value:\", num_float, \"| Type:\", type(num_float))   # 20"
   ]
  },
  {
   "cell_type": "code",
   "execution_count": 5,
   "id": "69f9be03",
   "metadata": {},
   "outputs": [
    {
     "name": "stdout",
     "output_type": "stream",
     "text": [
      "Root 1: (2+0j)\n",
      "Root 2: (1+0j)\n"
     ]
    }
   ],
   "source": [
    "a = float(input(\"Enter a: \"))\n",
    "b = float(input(\"Enter b: \"))\n",
    "c = float(input(\"Enter c: \"))\n",
    "d = b**2 - 4*a*c\n",
    "root1 = (-b + complex(d)**0.5) / (2*a)\n",
    "root2 = (-b - complex(d)**0.5) / (2*a)\n",
    "\n",
    "print(\"Root 1:\", root1)   # a = 1\n",
    "print(\"Root 2:\", root2)   # b = -3"
   ]
  },
  {
   "cell_type": "code",
   "execution_count": 6,
   "id": "c92c66b7",
   "metadata": {},
   "outputs": [
    {
     "name": "stdout",
     "output_type": "stream",
     "text": [
      "Name: poojitha, Age: 21 years, Height: 145.0 cm\n"
     ]
    }
   ],
   "source": [
    "name = input(\"Enter your name: \")\n",
    "age = int(input(\"Enter your age: \"))        # convert to integer\n",
    "height = float(input(\"Enter your height (in cm): \"))  # convert to float\n",
    "print(f\"Name: {name}, Age: {age} years, Height: {height} cm\")"
   ]
  },
  {
   "cell_type": "code",
   "execution_count": 7,
   "id": "f0f46bfa",
   "metadata": {},
   "outputs": [
    {
     "name": "stdout",
     "output_type": "stream",
     "text": [
      "Result: -90.0\n"
     ]
    }
   ],
   "source": [
    "num1 = float(input(\"Enter first number: \"))\n",
    "num2 = float(input(\"Enter second number: \"))\n",
    "num3 = float(input(\"Enter third number: \"))\n",
    "result = ((num1 + num2) * num3) / (num1 - num2)\n",
    "print(\"Result:\", round(result, 2))"
   ]
  },
  {
   "cell_type": "code",
   "execution_count": 8,
   "id": "edb4a7e4",
   "metadata": {},
   "outputs": [
    {
     "name": "stdout",
     "output_type": "stream",
     "text": [
      "Sum: 12.0\n"
     ]
    }
   ],
   "source": [
    "num1 = float(input(\"Enter first number: \"))\n",
    "num2 = float(input(\"Enter second number: \"))\n",
    "sum_result = num1 + num2\n",
    "print(\"Sum:\", sum_result)\n"
   ]
  },
  {
   "cell_type": "code",
   "execution_count": 9,
   "id": "baa38ac0",
   "metadata": {},
   "outputs": [
    {
     "name": "stdout",
     "output_type": "stream",
     "text": [
      "Uppercase: PYTHON\n"
     ]
    }
   ],
   "source": [
    "text = input(\"Enter a string: \")\n",
    "upper_text = text.upper()\n",
    "print(\"Uppercase:\", upper_text)"
   ]
  },
  {
   "cell_type": "code",
   "execution_count": 10,
   "id": "db2abdec",
   "metadata": {},
   "outputs": [
    {
     "name": "stdout",
     "output_type": "stream",
     "text": [
      "Square (using **): 36.0\n",
      "Square (using *): 36.0\n"
     ]
    }
   ],
   "source": [
    "num = float(input(\"Enter a number: \"))\n",
    "square1 = num ** 2      \n",
    "square2 = num * num     \n",
    "print(\"Square (using **):\", square1)\n",
    "print(\"Square (using *):\", square2)"
   ]
  },
  {
   "cell_type": "code",
   "execution_count": 11,
   "id": "3f4a1a8c",
   "metadata": {},
   "outputs": [
    {
     "name": "stdout",
     "output_type": "stream",
     "text": [
      "Hello, poojitha\n"
     ]
    }
   ],
   "source": [
    "name = input(\"Enter your name: \")\n",
    "print(f\"Hello, {name}\")\n",
    "\n"
   ]
  },
  {
   "cell_type": "code",
   "execution_count": 12,
   "id": "dc608de7",
   "metadata": {},
   "outputs": [
    {
     "name": "stdout",
     "output_type": "stream",
     "text": [
      "Concatenated string: helloworld\n"
     ]
    }
   ],
   "source": [
    "str1 = input(\"Enter first string: \")\n",
    "str2 = input(\"Enter second string: \")\n",
    "result = str1 + str2\n",
    "print(\"Concatenated string:\", result)"
   ]
  },
  {
   "cell_type": "code",
   "execution_count": 15,
   "id": "abb5c18c",
   "metadata": {},
   "outputs": [
    {
     "name": "stdout",
     "output_type": "stream",
     "text": [
      "Integer equivalent: 45\n"
     ]
    }
   ],
   "source": [
    "num = float(input(\"Enter a float number: \"))\n",
    "num_int = int(num)\n",
    "print(\"Integer equivalent:\", num_int)"
   ]
  },
  {
   "cell_type": "code",
   "execution_count": 16,
   "id": "08dc35a7",
   "metadata": {},
   "outputs": [
    {
     "name": "stdout",
     "output_type": "stream",
     "text": [
      "You are 21 years old\n"
     ]
    }
   ],
   "source": [
    "age = int(input(\"Enter your age: \"))\n",
    "print(f\"You are {age} years old\")"
   ]
  },
  {
   "cell_type": "code",
   "execution_count": 17,
   "id": "7349a7a5",
   "metadata": {},
   "outputs": [
    {
     "name": "stdout",
     "output_type": "stream",
     "text": [
      "Product: 42.0\n"
     ]
    }
   ],
   "source": [
    "num1 = float(input(\"Enter first number: \"))\n",
    "num2 = float(input(\"Enter second number: \"))\n",
    "product = num1 * num2   # 6 , 7\n",
    "print(\"Product:\", product)\n"
   ]
  },
  {
   "cell_type": "code",
   "execution_count": 18,
   "id": "915fed98",
   "metadata": {},
   "outputs": [
    {
     "name": "stdout",
     "output_type": "stream",
     "text": [
      "Length of the sentence: 10\n"
     ]
    }
   ],
   "source": [
    "sentence = input(\"Enter a sentence: \")\n",
    "length = len(sentence)\n",
    "print(\"Length of the sentence:\", length)\n"
   ]
  },
  {
   "cell_type": "code",
   "execution_count": 19,
   "id": "1eb1120c",
   "metadata": {},
   "outputs": [
    {
     "name": "stdout",
     "output_type": "stream",
     "text": [
      "Average: 20.0\n"
     ]
    }
   ],
   "source": [
    "num1 = float(input(\"Enter first number: \"))\n",
    "num2 = float(input(\"Enter second number: \"))\n",
    "num3 = float(input(\"Enter third number: \"))\n",
    "average = (num1 + num2 + num3) / 3\n",
    "\n",
    "# Print result  #10 ,20, 30\n",
    "print(\"Average:\", average)"
   ]
  },
  {
   "cell_type": "code",
   "execution_count": 20,
   "id": "13279df4",
   "metadata": {},
   "outputs": [
    {
     "name": "stdout",
     "output_type": "stream",
     "text": [
      "Absolute value: 25.7\n"
     ]
    }
   ],
   "source": [
    "num = float(input(\"Enter a number: \"))\n",
    "absolute_value = abs(num)  # -25.7\n",
    "print(\"Absolute value:\", absolute_value)"
   ]
  },
  {
   "cell_type": "code",
   "execution_count": 21,
   "id": "40c5b028",
   "metadata": {},
   "outputs": [
    {
     "name": "stdout",
     "output_type": "stream",
     "text": [
      "Difference: 7.0\n"
     ]
    }
   ],
   "source": [
    "num1 = float(input(\"Enter first number: \"))\n",
    "num2 = float(input(\"Enter second number: \"))\n",
    "difference = num1 - num2   # 15 , 8\n",
    "print(\"Difference:\", difference)"
   ]
  },
  {
   "cell_type": "code",
   "execution_count": 22,
   "id": "10a887ce",
   "metadata": {},
   "outputs": [
    {
     "name": "stdout",
     "output_type": "stream",
     "text": [
      "Reversed string: 54321\n"
     ]
    }
   ],
   "source": [
    "text = input(\"Enter a string: \")\n",
    "reversed_text = text[::-1]  #python\n",
    "print(\"Reversed string:\", reversed_text)\n"
   ]
  },
  {
   "cell_type": "code",
   "execution_count": 23,
   "id": "7ba42576",
   "metadata": {},
   "outputs": [
    {
     "name": "stdout",
     "output_type": "stream",
     "text": [
      "Height in meters: 1.75\n"
     ]
    }
   ],
   "source": [
    "height_cm = float(input(\"Enter height in centimeters: \"))\n",
    "height_m = height_cm / 100 #175\n",
    "# Print result\n",
    "print(\"Height in meters:\", height_m)"
   ]
  },
  {
   "cell_type": "code",
   "execution_count": 24,
   "id": "a4da119d",
   "metadata": {},
   "outputs": [
    {
     "name": "stdout",
     "output_type": "stream",
     "text": [
      "Quotient: 5.0\n"
     ]
    }
   ],
   "source": [
    "num1 = float(input(\"Enter first number: \"))\n",
    "num2 = float(input(\"Enter second number: \"))\n",
    "quotient = num1 / num2\n",
    "# 20 , 4\n",
    "print(\"Quotient:\", quotient)\n"
   ]
  },
  {
   "cell_type": "code",
   "execution_count": 25,
   "id": "07d0dbf3",
   "metadata": {},
   "outputs": [
    {
     "name": "stdout",
     "output_type": "stream",
     "text": [
      "\"poojitha\"\n"
     ]
    }
   ],
   "source": [
    "name = input(\"Enter your name: \")\n",
    "print(f'\"{name}\"') \n"
   ]
  },
  {
   "cell_type": "code",
   "execution_count": 26,
   "id": "7e4d1b5c",
   "metadata": {},
   "outputs": [
    {
     "name": "stdout",
     "output_type": "stream",
     "text": [
      "Rounded number: 12.34\n"
     ]
    }
   ],
   "source": [
    "num = float(input(\"Enter a number: \"))\n",
    "rounded_num = round(num, 2)\n",
    "# Print result\n",
    "print(\"Rounded number:\", rounded_num)  #12.34345"
   ]
  },
  {
   "cell_type": "code",
   "execution_count": 29,
   "id": "4f58a765",
   "metadata": {},
   "outputs": [
    {
     "name": "stdout",
     "output_type": "stream",
     "text": [
      "hello world\n"
     ]
    }
   ],
   "source": [
    "str1 = input(\"Enter first string: \")\n",
    "str2 = input(\"Enter second string: \")\n",
    "print(f\"{str1} {str2}\")"
   ]
  },
  {
   "cell_type": "code",
   "execution_count": 33,
   "id": "a9b884d7",
   "metadata": {},
   "outputs": [
    {
     "name": "stdout",
     "output_type": "stream",
     "text": [
      "Type of input: <class 'str'>\n"
     ]
    }
   ],
   "source": [
    "user_input = input(\"Enter something: \")\n",
    "print(\"Type of input:\", type(user_input)) "
   ]
  },
  {
   "cell_type": "code",
   "execution_count": 34,
   "id": "98c05f00",
   "metadata": {},
   "outputs": [
    {
     "name": "stdout",
     "output_type": "stream",
     "text": [
      "Sum: 9.0\n",
      "Product: 24.0\n"
     ]
    }
   ],
   "source": [
    "num1 = float(input(\"Enter first number: \"))\n",
    "num2 = float(input(\"Enter second number: \"))\n",
    "num3 = float(input(\"Enter third number: \"))\n",
    "sum_result = num1 + num2 + num3\n",
    "product_result = num1 * num2 * num3\n",
    "# Print results \n",
    "print(\"Sum:\", sum_result)  # 2 , 3, 4\n",
    "print(\"Product:\", product_result)"
   ]
  },
  {
   "cell_type": "code",
   "execution_count": null,
   "id": "da11e5d6",
   "metadata": {},
   "outputs": [],
   "source": []
  }
 ],
 "metadata": {
  "kernelspec": {
   "display_name": "Python 3",
   "language": "python",
   "name": "python3"
  },
  "language_info": {
   "codemirror_mode": {
    "name": "ipython",
    "version": 3
   },
   "file_extension": ".py",
   "mimetype": "text/x-python",
   "name": "python",
   "nbconvert_exporter": "python",
   "pygments_lexer": "ipython3",
   "version": "3.13.5"
  }
 },
 "nbformat": 4,
 "nbformat_minor": 5
}
