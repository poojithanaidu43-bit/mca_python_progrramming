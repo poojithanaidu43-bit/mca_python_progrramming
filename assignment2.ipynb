{
 "cells": [
  {
   "cell_type": "code",
   "execution_count": 1,
   "id": "6e4ed17a",
   "metadata": {},
   "outputs": [
    {
     "name": "stdout",
     "output_type": "stream",
     "text": [
      "1\n",
      "2\n",
      "3\n",
      "4\n",
      "5\n",
      "6\n",
      "Reached a multiple of 7: 7\n"
     ]
    }
   ],
   "source": [
    "# Loop from 1 to 100\n",
    "for i in range(1, 101):\n",
    "    if i % 7 == 0:   # Check if multiple of 7\n",
    "        print(\"Reached a multiple of 7:\", i)\n",
    "        break\n",
    "    print(i)"
   ]
  },
  {
   "cell_type": "code",
   "execution_count": 2,
   "id": "0eee49fd",
   "metadata": {},
   "outputs": [
    {
     "name": "stdout",
     "output_type": "stream",
     "text": [
      "1\n",
      "2\n",
      "4\n",
      "5\n",
      "7\n",
      "8\n",
      "10\n"
     ]
    }
   ],
   "source": [
    "# Loop from 1 to 10\n",
    "for i in range(1, 11):\n",
    "    if i % 3 == 0:   # Skip multiples of 3\n",
    "        continue\n",
    "    print(i)"
   ]
  },
  {
   "cell_type": "code",
   "execution_count": 3,
   "id": "6bbb1705",
   "metadata": {},
   "outputs": [
    {
     "name": "stdout",
     "output_type": "stream",
     "text": [
      "1\n",
      "2\n",
      "4\n",
      "5\n"
     ]
    }
   ],
   "source": [
    "# Loop from 1 to 5\n",
    "for i in range(1, 6):\n",
    "    if i == 3:\n",
    "        pass  # Do nothing when i is 3\n",
    "    else:\n",
    "        print(i)"
   ]
  },
  {
   "cell_type": "code",
   "execution_count": 4,
   "id": "9102d04a",
   "metadata": {},
   "outputs": [
    {
     "name": "stdout",
     "output_type": "stream",
     "text": [
      "Squares from 1 to 10: [1, 4, 9, 16, 25, 36, 49, 64, 81, 100]\n"
     ]
    }
   ],
   "source": [
    "# Using list comprehension\n",
    "squares = [x**2 for x in range(1, 11)]\n",
    "print(\"Squares from 1 to 10:\", squares)"
   ]
  },
  {
   "cell_type": "code",
   "execution_count": 5,
   "id": "3046de29",
   "metadata": {},
   "outputs": [
    {
     "name": "stdout",
     "output_type": "stream",
     "text": [
      "Even numbers from 1 to 20: [2, 4, 6, 8, 10, 12, 14, 16, 18, 20]\n"
     ]
    }
   ],
   "source": [
    "# List of even numbers from 1 to 20\n",
    "even_numbers = [x for x in range(1, 21) if x % 2 == 0]\n",
    "print(\"Even numbers from 1 to 20:\", even_numbers)"
   ]
  },
  {
   "cell_type": "code",
   "execution_count": 6,
   "id": "4d2b55c5",
   "metadata": {},
   "outputs": [
    {
     "name": "stdout",
     "output_type": "stream",
     "text": [
      "Dictionary of squares: {1: 1, 2: 4, 3: 9, 4: 16, 5: 25}\n"
     ]
    }
   ],
   "source": [
    "# Create dictionary with numbers as keys and their squares as values\n",
    "squares_dict = {x: x**2 for x in range(1, 6)}\n",
    "print(\"Dictionary of squares:\", squares_dict)"
   ]
  },
  {
   "cell_type": "code",
   "execution_count": 7,
   "id": "62484012",
   "metadata": {},
   "outputs": [
    {
     "name": "stdout",
     "output_type": "stream",
     "text": [
      "Lengths of strings: [5, 6, 6, 4]\n"
     ]
    }
   ],
   "source": [
    "# List of strings\n",
    "words = [\"apple\", \"banana\", \"cherry\", \"date\"]\n",
    "# Create a list of their lengths\n",
    "lengths = [len(word) for word in words]\n",
    "print(\"Lengths of strings:\", lengths)"
   ]
  },
  {
   "cell_type": "code",
   "execution_count": 8,
   "id": "ae70caf6",
   "metadata": {},
   "outputs": [
    {
     "name": "stdout",
     "output_type": "stream",
     "text": [
      "*\n",
      "**\n",
      "***\n",
      "****\n",
      "*****\n"
     ]
    }
   ],
   "source": [
    "# Number of rows\n",
    "rows = 5\n",
    "# Outer loop for each row\n",
    "for i in range(1, rows + 1):\n",
    "    # Inner loop for stars in each row\n",
    "    for j in range(i):\n",
    "        print(\"*\", end=\"\")  \n",
    "    print()"
   ]
  },
  {
   "cell_type": "code",
   "execution_count": 9,
   "id": "86f690b5",
   "metadata": {},
   "outputs": [
    {
     "name": "stdout",
     "output_type": "stream",
     "text": [
      "Sum of the two matrices:\n",
      "[6, 8]\n",
      "[10, 12]\n"
     ]
    }
   ],
   "source": [
    "# Input two 2x2 matrices\n",
    "matrix1 = [[1, 2],\n",
    "           [3, 4]]\n",
    "matrix2 = [[5, 6],\n",
    "           [7, 8]]\n",
    "result = [[0, 0],\n",
    "          [0, 0]]\n",
    "for i in range(2):          # Rows\n",
    "    for j in range(2):      # Columns\n",
    "        result[i][j] = matrix1[i][j] + matrix2[i][j]\n",
    "print(\"Sum of the two matrices:\")\n",
    "for row in result:\n",
    "    print(row)"
   ]
  },
  {
   "cell_type": "code",
   "execution_count": 10,
   "id": "4c1193c2",
   "metadata": {},
   "outputs": [
    {
     "name": "stdout",
     "output_type": "stream",
     "text": [
      "Result: 0.5\n"
     ]
    }
   ],
   "source": [
    "# Take input from the user\n",
    "num1 = float(input(\"Enter numerator: \"))\n",
    "num2 = float(input(\"Enter denominator: \"))\n",
    "try:\n",
    "    result = num1 / num2\n",
    "    print(\"Result:\", result)\n",
    "except ZeroDivisionError:\n",
    "    print(\"Error: Cannot divide by zero!\")"
   ]
  },
  {
   "cell_type": "code",
   "execution_count": 11,
   "id": "dce7208a",
   "metadata": {},
   "outputs": [
    {
     "name": "stdout",
     "output_type": "stream",
     "text": [
      "You entered the number: 11\n"
     ]
    }
   ],
   "source": [
    "# Take input from the user\n",
    "user_input = input(\"Enter a number: \")\n",
    "try:\n",
    "    number = int(user_input)\n",
    "    print(\"You entered the number:\", number)\n",
    "except ValueError:\n",
    "    print(\"Error: Invalid input! Please enter a valid integer.\")"
   ]
  },
  {
   "cell_type": "code",
   "execution_count": 12,
   "id": "b3f94ff6",
   "metadata": {},
   "outputs": [
    {
     "name": "stdout",
     "output_type": "stream",
     "text": [
      "Error: The file example.txt does not exist.\n"
     ]
    }
   ],
   "source": [
    "# File name to read\n",
    "filename = \"example.txt\"\n",
    "try:\n",
    "    with open(filename, \"r\") as file:\n",
    "        content = file.read()\n",
    "        print(\"File content:\\n\", content)\n",
    "except FileNotFoundError:\n",
    "    print(\"Error: The file\", filename, \"does not exist.\")"
   ]
  },
  {
   "cell_type": "code",
   "execution_count": 13,
   "id": "46c6d828",
   "metadata": {},
   "outputs": [
    {
     "name": "stdout",
     "output_type": "stream",
     "text": [
      "Result: 0.9230769230769231\n"
     ]
    }
   ],
   "source": [
    "# Take input from the user\n",
    "try:\n",
    "    num1 = int(input(\"Enter numerator: \"))\n",
    "    num2 = int(input(\"Enter denominator: \"))\n",
    "    result = num1 / num2\n",
    "    print(\"Result:\", result)\n",
    "except ValueError:\n",
    "    print(\"Error: Invalid input! Please enter integers only.\")\n",
    "except ZeroDivisionError:\n",
    "    print(\"Error: Cannot divide by zero!\")"
   ]
  },
  {
   "cell_type": "code",
   "execution_count": 14,
   "id": "5f880b88",
   "metadata": {},
   "outputs": [
    {
     "name": "stdout",
     "output_type": "stream",
     "text": [
      "Error: The file example.txt does not exist.\n"
     ]
    }
   ],
   "source": [
    "filename = \"example.txt\"\n",
    "try:\n",
    "    file = open(filename, \"r\")\n",
    "    content = file.read()\n",
    "    print(\"File content:\\n\", content)\n",
    "except FileNotFoundError:\n",
    "    print(\"Error: The file\", filename, \"does not exist.\")\n",
    "finally:\n",
    "    try:\n",
    "        file.close()\n",
    "        print(\"File closed successfully.\")\n",
    "    except NameError:\n",
    "        pass"
   ]
  },
  {
   "cell_type": "code",
   "execution_count": null,
   "id": "f87db531",
   "metadata": {},
   "outputs": [],
   "source": []
  }
 ],
 "metadata": {
  "kernelspec": {
   "display_name": "Python 3",
   "language": "python",
   "name": "python3"
  },
  "language_info": {
   "codemirror_mode": {
    "name": "ipython",
    "version": 3
   },
   "file_extension": ".py",
   "mimetype": "text/x-python",
   "name": "python",
   "nbconvert_exporter": "python",
   "pygments_lexer": "ipython3",
   "version": "3.13.5"
  }
 },
 "nbformat": 4,
 "nbformat_minor": 5
}
