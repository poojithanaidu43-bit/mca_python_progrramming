{
 "cells": [
  {
   "cell_type": "code",
   "execution_count": 3,
   "id": "c7914a4e",
   "metadata": {},
   "outputs": [
    {
     "name": "stdout",
     "output_type": "stream",
     "text": [
      "Sum = 15\n"
     ]
    }
   ],
   "source": [
    "N = int(input(\"Enter number of elements: \"))\n",
    "numbers = list(map(int, input(\"Enter the numbers: \").split()))\n",
    "total = sum(numbers)\n",
    "print(\"Sum =\", total)"
   ]
  },
  {
   "cell_type": "code",
   "execution_count": 4,
   "id": "7a9203ab",
   "metadata": {},
   "outputs": [
    {
     "name": "stdout",
     "output_type": "stream",
     "text": [
      "Average = 0.80\n"
     ]
    }
   ],
   "source": [
    "N = int(input(\"Enter number of elements: \"))\n",
    "numbers = list(map(int, input(\"Enter the numbers: \").split()))\n",
    "average = sum(numbers) / N\n",
    "print(f\"Average = {average:.2f}\")"
   ]
  },
  {
   "cell_type": "code",
   "execution_count": 5,
   "id": "138ed8ed",
   "metadata": {},
   "outputs": [
    {
     "name": "stdout",
     "output_type": "stream",
     "text": [
      "Reversed string: olleh\n"
     ]
    }
   ],
   "source": [
    "s = input(\"Enter a string: \")\n",
    "reversed_s = s[::-1]\n",
    "print(\"Reversed string:\", reversed_s)"
   ]
  },
  {
   "cell_type": "code",
   "execution_count": 6,
   "id": "1b944023",
   "metadata": {},
   "outputs": [
    {
     "name": "stdout",
     "output_type": "stream",
     "text": [
      "2 3\n"
     ]
    }
   ],
   "source": [
    "word = input()\n",
    "\n",
    "vowels = \"aeiouAEIOU\"\n",
    "v = 0\n",
    "c = 0\n",
    "\n",
    "for ch in word:\n",
    "    if ch.isalpha():\n",
    "        if ch in vowels:\n",
    "            v += 1\n",
    "        else:\n",
    "            c += 1\n",
    "\n",
    "print(v, c)"
   ]
  },
  {
   "cell_type": "code",
   "execution_count": 7,
   "id": "8bab56b1",
   "metadata": {},
   "outputs": [
    {
     "name": "stdout",
     "output_type": "stream",
     "text": [
      "Yes\n"
     ]
    }
   ],
   "source": [
    "n = input()\n",
    "\n",
    "if n == n[::-1]:\n",
    "    print(\"Yes\")\n",
    "else:\n",
    "    print(\"No\")\n"
   ]
  },
  {
   "cell_type": "code",
   "execution_count": 8,
   "id": "334fc5ca",
   "metadata": {},
   "outputs": [
    {
     "name": "stdout",
     "output_type": "stream",
     "text": [
      "*\n",
      "**\n",
      "***\n",
      "****\n",
      "*****\n"
     ]
    }
   ],
   "source": [
    "n = int(input())\n",
    "\n",
    "for i in range(1, n + 1):\n",
    "    print(\"*\" * i)"
   ]
  },
  {
   "cell_type": "code",
   "execution_count": 9,
   "id": "7fb5b99d",
   "metadata": {},
   "outputs": [
    {
     "name": "stdout",
     "output_type": "stream",
     "text": [
      "5\n"
     ]
    }
   ],
   "source": [
    "n = input()\n",
    "print(len(n))"
   ]
  },
  {
   "cell_type": "code",
   "execution_count": 10,
   "id": "cdcace2d",
   "metadata": {},
   "outputs": [
    {
     "name": "stdout",
     "output_type": "stream",
     "text": [
      "120\n"
     ]
    }
   ],
   "source": [
    "n = int(input())\n",
    "\n",
    "fact = 1\n",
    "for i in range(1, n + 1):\n",
    "    fact *= i\n",
    "\n",
    "print(fact)"
   ]
  },
  {
   "cell_type": "code",
   "execution_count": 11,
   "id": "5020bc67",
   "metadata": {},
   "outputs": [
    {
     "name": "stdout",
     "output_type": "stream",
     "text": [
      "8\n"
     ]
    }
   ],
   "source": [
    "n = int(input())\n",
    "\n",
    "a, b = 0, 1\n",
    "for i in range(n):\n",
    "    a, b = b, a + b\n",
    "\n",
    "print(a)"
   ]
  },
  {
   "cell_type": "code",
   "execution_count": 12,
   "id": "f177e062",
   "metadata": {},
   "outputs": [
    {
     "name": "stdout",
     "output_type": "stream",
     "text": [
      "Prime\n"
     ]
    }
   ],
   "source": [
    "n = int(input())\n",
    "\n",
    "if n < 2:\n",
    "    print(\"Not Prime\")\n",
    "else:\n",
    "    for i in range(2, int(n**0.5) + 1):\n",
    "        if n % i == 0:\n",
    "            print(\"Not Prime\")\n",
    "            break\n",
    "    else:\n",
    "        print(\"Prime\")\n"
   ]
  },
  {
   "cell_type": "code",
   "execution_count": 14,
   "id": "1c0c8236",
   "metadata": {},
   "outputs": [
    {
     "name": "stdout",
     "output_type": "stream",
     "text": [
      "[4, 5, 1, 2, 3]\n"
     ]
    }
   ],
   "source": [
    "nums = list(map(int, input(\"Enter list elements: \").split()))\n",
    "k = int(input(\"Enter k: \"))\n",
    "k = k % len(nums)\n",
    "rotated = nums[-k:] + nums[:-k]\n",
    "print(rotated)\n"
   ]
  },
  {
   "cell_type": "code",
   "execution_count": 15,
   "id": "f62a386e",
   "metadata": {},
   "outputs": [
    {
     "name": "stdout",
     "output_type": "stream",
     "text": [
      "apple -> 1\n",
      "banana -> 1\n",
      "mango -> 1\n"
     ]
    }
   ],
   "source": [
    "sentence = input().split()\n",
    "\n",
    "freq = {}\n",
    "\n",
    "for word in sentence:\n",
    "    freq[word] = freq.get(word, 0) + 1\n",
    "\n",
    "for word, count in freq.items():\n",
    "    print(word, \"->\", count)"
   ]
  },
  {
   "cell_type": "code",
   "execution_count": 16,
   "id": "f60de31f",
   "metadata": {},
   "outputs": [
    {
     "name": "stdout",
     "output_type": "stream",
     "text": [
      "12\n"
     ]
    }
   ],
   "source": [
    "a, b = map(int, input().split())  \n",
    "\n",
    "while b != 0:                    \n",
    "    a, b = b, a % b               \n",
    "\n",
    "print(a)"
   ]
  },
  {
   "cell_type": "code",
   "execution_count": 17,
   "id": "b2a49b83",
   "metadata": {},
   "outputs": [
    {
     "name": "stdout",
     "output_type": "stream",
     "text": [
      "Valid\n"
     ]
    }
   ],
   "source": [
    "s = input()\n",
    "\n",
    "stack = []\n",
    "pairs = {')': '(', '}': '{', ']': '['}\n",
    "\n",
    "for ch in s:\n",
    "    if ch in \"({[\":\n",
    "        stack.append(ch)\n",
    "    elif ch in \")}]\":\n",
    "        if not stack or stack[-1] != pairs[ch]:\n",
    "            print(\"Invalid\")\n",
    "            break\n",
    "        stack.pop()\n",
    "else:\n",
    "    print(\"Valid\" if not stack else \"Invalid\")\n"
   ]
  },
  {
   "cell_type": "code",
   "execution_count": 18,
   "id": "c78184b5",
   "metadata": {},
   "outputs": [
    {
     "name": "stdout",
     "output_type": "stream",
     "text": [
      "1024\n"
     ]
    }
   ],
   "source": [
    "a, b = map(int, input().split())  \n",
    "\n",
    "result = 1\n",
    "while b > 0:\n",
    "    if b % 2 == 1:    \n",
    "        result *= a     \n",
    "    a *= a            \n",
    "    b //= 2             \n",
    "\n",
    "print(result)  "
   ]
  },
  {
   "cell_type": "code",
   "execution_count": 19,
   "id": "b202d111",
   "metadata": {},
   "outputs": [
    {
     "name": "stdout",
     "output_type": "stream",
     "text": [
      "6\n"
     ]
    }
   ],
   "source": [
    "nums = list(map(int, input().split()))\n",
    "N = len(nums) + 1\n",
    "total = N * (N + 1) // 2\n",
    "missing = total - sum(nums)\n",
    "\n",
    "print(missing)"
   ]
  },
  {
   "cell_type": "code",
   "execution_count": 20,
   "id": "30d3d73b",
   "metadata": {},
   "outputs": [
    {
     "name": "stdout",
     "output_type": "stream",
     "text": [
      "[1, 2, 5, 5, 9]\n"
     ]
    }
   ],
   "source": [
    "nums = list(map(int, input().split()))\n",
    "n = len(nums)\n",
    "\n",
    "for i in range(n):\n",
    "    for j in range(0, n-i-1):\n",
    "        if nums[j] > nums[j+1]:\n",
    "            nums[j], nums[j+1] = nums[j+1], nums[j]\n",
    "\n",
    "print(nums)"
   ]
  },
  {
   "cell_type": "code",
   "execution_count": 21,
   "id": "e91e40f7",
   "metadata": {},
   "outputs": [
    {
     "name": "stdout",
     "output_type": "stream",
     "text": [
      "[[1, 4], [2, 5], [3, 6]]\n"
     ]
    }
   ],
   "source": [
    "def transpose_matrix(matrix):\n",
    "    return [[row[i] for row in matrix] for i in range(len(matrix[0]))]\n",
    "matrix = [\n",
    "    [1, 2, 3],\n",
    "    [4, 5, 6]\n",
    "]\n",
    "print(transpose_matrix(matrix))"
   ]
  },
  {
   "cell_type": "code",
   "execution_count": 22,
   "id": "acd32887",
   "metadata": {},
   "outputs": [
    {
     "name": "stdout",
     "output_type": "stream",
     "text": [
      "True\n"
     ]
    }
   ],
   "source": [
    "def is_anagram(str1, str2):\n",
    "    return sorted(str1) == sorted(str2)\n",
    "str1 = \"listen\"\n",
    "str2 = \"silent\"\n",
    "print(is_anagram(str1, str2))"
   ]
  },
  {
   "cell_type": "code",
   "execution_count": 23,
   "id": "97ae6383",
   "metadata": {},
   "outputs": [
    {
     "name": "stdout",
     "output_type": "stream",
     "text": [
      "1010\n"
     ]
    }
   ],
   "source": [
    "def decimal_to_binary(n):\n",
    "    return bin(n)[2:]\n",
    "n = 10\n",
    "print(decimal_to_binary(n))\n"
   ]
  },
  {
   "cell_type": "code",
   "execution_count": 24,
   "id": "ab8abd2d",
   "metadata": {},
   "outputs": [
    {
     "name": "stdout",
     "output_type": "stream",
     "text": [
      "10\n"
     ]
    }
   ],
   "source": [
    "def binary_to_decimal(binary_str):\n",
    "    return int(binary_str, 2)\n",
    "binary_str = \"1010\"\n",
    "print(binary_to_decimal(binary_str))"
   ]
  },
  {
   "cell_type": "code",
   "execution_count": 25,
   "id": "ad074ba2",
   "metadata": {},
   "outputs": [
    {
     "name": "stdout",
     "output_type": "stream",
     "text": [
      "36\n"
     ]
    }
   ],
   "source": [
    "def lcm(a, b):\n",
    "    return abs(a * b) // math.gcd(a, b)\n",
    "import math\n",
    "\n",
    "a = 12\n",
    "b = 18\n",
    "print(lcm(a, b))"
   ]
  },
  {
   "cell_type": "code",
   "execution_count": 26,
   "id": "5b555c75",
   "metadata": {},
   "outputs": [
    {
     "name": "stdout",
     "output_type": "stream",
     "text": [
      "True\n"
     ]
    }
   ],
   "source": [
    "def is_armstrong(n):\n",
    "    temp = n\n",
    "    sum = 0\n",
    "    while n > 0:\n",
    "        digit = n % 10\n",
    "        sum += digit ** 3\n",
    "        n //= 10\n",
    "    return temp == sum\n",
    "n = 153\n",
    "print(is_armstrong(n))\n"
   ]
  },
  {
   "cell_type": "code",
   "execution_count": 27,
   "id": "11893d3e",
   "metadata": {},
   "outputs": [
    {
     "name": "stdout",
     "output_type": "stream",
     "text": [
      "10 5\n"
     ]
    }
   ],
   "source": [
    "a = 5\n",
    "b = 10\n",
    "\n",
    "a = a + b\n",
    "b = a - b\n",
    "a = a - b\n",
    "\n",
    "print(a, b)"
   ]
  },
  {
   "cell_type": "code",
   "execution_count": 28,
   "id": "9a5f5fa9",
   "metadata": {},
   "outputs": [
    {
     "name": "stdout",
     "output_type": "stream",
     "text": [
      "Hello World From Python\n"
     ]
    }
   ],
   "source": [
    "def to_title_case(sentence):\n",
    "    return sentence.title()\n",
    "sentence = \"hello world from python\"\n",
    "print(to_title_case(sentence))\n"
   ]
  },
  {
   "cell_type": "code",
   "execution_count": 29,
   "id": "9d42abc7",
   "metadata": {},
   "outputs": [
    {
     "name": "stdout",
     "output_type": "stream",
     "text": [
      "2\n"
     ]
    }
   ],
   "source": [
    "def count_substring(text, pattern):\n",
    "    count = 0\n",
    "    for i in range(len(text) - len(pattern) + 1):\n",
    "        if text[i:i+len(pattern)] == pattern:\n",
    "            count += 1\n",
    "    return count\n",
    "text = \"ABABA\"\n",
    "pattern = \"ABA\"\n",
    "print(count_substring(text, pattern))"
   ]
  },
  {
   "cell_type": "code",
   "execution_count": 30,
   "id": "f87a4a75",
   "metadata": {},
   "outputs": [
    {
     "name": "stdout",
     "output_type": "stream",
     "text": [
      "10 5\n",
      "[1, 2, 3, 4, 5, 6]\n"
     ]
    }
   ],
   "source": [
    "a, b = 5, 10\n",
    "a, b = b, a\n",
    "print(a, b)\n",
    "\n",
    "def union_lists(list1, list2):\n",
    "    return list(set(list1) | set(list2))\n",
    "list1 = [1, 2, 3, 4]\n",
    "list2 = [3, 4, 5, 6]\n",
    "print(union_lists(list1, list2))"
   ]
  },
  {
   "cell_type": "code",
   "execution_count": 31,
   "id": "5320933f",
   "metadata": {},
   "outputs": [
    {
     "name": "stdout",
     "output_type": "stream",
     "text": [
      "[3, 4]\n"
     ]
    }
   ],
   "source": [
    "def intersection_lists(list1, list2):\n",
    "    return list(set(list1) & set(list2))\n",
    "list1 = [1, 2, 3, 4]\n",
    "list2 = [3, 4, 5, 6]\n",
    "print(intersection_lists(list1, list2))"
   ]
  },
  {
   "cell_type": "code",
   "execution_count": 32,
   "id": "3e0e2c5a",
   "metadata": {},
   "outputs": [
    {
     "name": "stdout",
     "output_type": "stream",
     "text": [
      "[1, 2, 3, 4, 5, 6]\n"
     ]
    }
   ],
   "source": [
    "def merge_sorted_lists(list1, list2):\n",
    "    i = j = 0\n",
    "    merged = []\n",
    "\n",
    "    while i < len(list1) and j < len(list2):\n",
    "        if list1[i] < list2[j]:\n",
    "            merged.append(list1[i])\n",
    "            i += 1\n",
    "        else:\n",
    "            merged.append(list2[j])\n",
    "            j += 1\n",
    "\n",
    "    # Append remaining elements\n",
    "    merged.extend(list1[i:])\n",
    "    merged.extend(list2[j:])\n",
    "\n",
    "    return merged\n",
    "list1 = [1, 3, 5]\n",
    "list2 = [2, 4, 6]\n",
    "print(merge_sorted_lists(list1, list2))"
   ]
  },
  {
   "cell_type": "code",
   "execution_count": 33,
   "id": "721488fa",
   "metadata": {},
   "outputs": [
    {
     "name": "stdout",
     "output_type": "stream",
     "text": [
      "[1, 2, 5, 5, 6, 9]\n"
     ]
    }
   ],
   "source": [
    "def sort_list(lst):\n",
    "    return sorted(lst)\n",
    "lst = [5, 2, 9, 1, 5, 6]\n",
    "print(sort_list(lst))"
   ]
  },
  {
   "cell_type": "code",
   "execution_count": 34,
   "id": "8af0af17",
   "metadata": {},
   "outputs": [
    {
     "name": "stdout",
     "output_type": "stream",
     "text": [
      "Maximum: 9\n",
      "Minimum: 1\n"
     ]
    }
   ],
   "source": [
    "def max_and_min(lst):\n",
    "    print(\"Maximum:\", max(lst))\n",
    "    print(\"Minimum:\", min(lst))\n",
    "lst = [4, 7, 1, 9, 2]\n",
    "max_and_min(lst)"
   ]
  },
  {
   "cell_type": "code",
   "execution_count": 35,
   "id": "177bb3e0",
   "metadata": {},
   "outputs": [
    {
     "name": "stdout",
     "output_type": "stream",
     "text": [
      "[1, 2, 4, 7, 9]\n"
     ]
    }
   ],
   "source": [
    "def remove_duplicates(lst):\n",
    "    return list(set(lst))\n",
    "print(remove_duplicates(lst))"
   ]
  },
  {
   "cell_type": "code",
   "execution_count": 36,
   "id": "c264cf6e",
   "metadata": {},
   "outputs": [
    {
     "name": "stdout",
     "output_type": "stream",
     "text": [
      "[1, 2, 3, 4, 5]\n"
     ]
    }
   ],
   "source": [
    "def unique_list(lst):\n",
    "    seen = set()\n",
    "    result = []\n",
    "    for item in lst:\n",
    "        if item not in seen:\n",
    "            seen.add(item)\n",
    "            result.append(item)\n",
    "    return result\n",
    "lst = [1, 2, 2, 3, 4, 4, 5]\n",
    "print(unique_list(lst))"
   ]
  },
  {
   "cell_type": "code",
   "execution_count": null,
   "id": "e631bf14",
   "metadata": {},
   "outputs": [],
   "source": []
  }
 ],
 "metadata": {
  "kernelspec": {
   "display_name": "Python 3",
   "language": "python",
   "name": "python3"
  },
  "language_info": {
   "codemirror_mode": {
    "name": "ipython",
    "version": 3
   },
   "file_extension": ".py",
   "mimetype": "text/x-python",
   "name": "python",
   "nbconvert_exporter": "python",
   "pygments_lexer": "ipython3",
   "version": "3.13.5"
  }
 },
 "nbformat": 4,
 "nbformat_minor": 5
}
