{
 "cells": [
  {
   "cell_type": "code",
   "execution_count": 1,
   "id": "e33a5a5f",
   "metadata": {},
   "outputs": [
    {
     "name": "stdout",
     "output_type": "stream",
     "text": [
      "Hello, poojitha\n",
      "You are from tirupati\n",
      "You are 21 years old.\n",
      "Your rate is 9.0\n"
     ]
    }
   ],
   "source": [
    "name = input(\"Enter your name: \")\n",
    "print(\"Hello,\", name)\n",
    "city = input(\"Enter your city: \")\n",
    "print(\"You are from\", city)\n",
    "age = int(input(\"Enter your age: \"))\n",
    "print(\"You are\", age, \"years old.\")\n",
    "rate = float(input(\"Enter your rate: \"))\n",
    "print(\"Your rate is\", rate)"
   ]
  },
  {
   "cell_type": "code",
   "execution_count": 2,
   "id": "274f6ef8",
   "metadata": {},
   "outputs": [
    {
     "name": "stdout",
     "output_type": "stream",
     "text": [
      "Welcome to Python!\n",
      "Sum: 8\n",
      "Hello World !\n",
      "Name: Poojitha\n",
      "Name: Poojitha Age: 21 City: Tirupati\n"
     ]
    }
   ],
   "source": [
    "print(\"Welcome to Python!\")\n",
    "print(\"Sum:\", 5 + 3)\n",
    "print(\"Hello\", \"World\", \"!\")\n",
    "name = \"Poojitha\"\n",
    "print(\"Name:\", name)\n",
    "name, age, city = \"Poojitha\", 21, \"Tirupati\"\n",
    "print(\"Name:\", name, \"Age:\", age, \"City:\", city)"
   ]
  },
  {
   "cell_type": "code",
   "execution_count": 3,
   "id": "a528b412",
   "metadata": {},
   "outputs": [
    {
     "name": "stdout",
     "output_type": "stream",
     "text": [
      "A-B\n",
      "Hello!"
     ]
    }
   ],
   "source": [
    "print(\"A\", \"B\", sep=\"-\")  # Output: A-B\n",
    "print(\"Hello\", end=\"!\")   # Output: Hello!"
   ]
  },
  {
   "cell_type": "code",
   "execution_count": 4,
   "id": "d0f56289",
   "metadata": {},
   "outputs": [
    {
     "name": "stdout",
     "output_type": "stream",
     "text": [
      "Poojitha is 21 years old.\n"
     ]
    }
   ],
   "source": [
    "name = \"Poojitha\"\n",
    "age = 21\n",
    "print(f\"{name} is {age} years old.\")"
   ]
  },
  {
   "cell_type": "code",
   "execution_count": 5,
   "id": "0c9b4e61",
   "metadata": {},
   "outputs": [
    {
     "name": "stdout",
     "output_type": "stream",
     "text": [
      "Poojitha scored 95 marks.\n",
      "Jerry is 21 years old.\n"
     ]
    }
   ],
   "source": [
    "print(\"{} scored {} marks.\".format(\"Poojitha\", 95))\n",
    "print(\"{1} is {0} years old.\".format(21, \"Jerry\"))"
   ]
  },
  {
   "cell_type": "code",
   "execution_count": 6,
   "id": "433f4670",
   "metadata": {},
   "outputs": [
    {
     "name": "stdout",
     "output_type": "stream",
     "text": [
      "<class 'int'>\n"
     ]
    }
   ],
   "source": [
    "x = 10\n",
    "print(type(x))"
   ]
  },
  {
   "cell_type": "code",
   "execution_count": 7,
   "id": "07d60e7c",
   "metadata": {},
   "outputs": [
    {
     "name": "stdout",
     "output_type": "stream",
     "text": [
      "<class 'float'>\n"
     ]
    }
   ],
   "source": [
    "y = 3.5\n",
    "print(type(y))  # <class 'float'>"
   ]
  },
  {
   "cell_type": "code",
   "execution_count": 8,
   "id": "bc41f92e",
   "metadata": {},
   "outputs": [
    {
     "name": "stdout",
     "output_type": "stream",
     "text": [
      "3.5\n"
     ]
    }
   ],
   "source": [
    "y = 3.5\n",
    "print((y))  # example"
   ]
  },
  {
   "cell_type": "code",
   "execution_count": 9,
   "id": "1f0fcc7d",
   "metadata": {},
   "outputs": [
    {
     "name": "stdout",
     "output_type": "stream",
     "text": [
      "<class 'complex'>\n"
     ]
    }
   ],
   "source": [
    "z = 1 + 2j\n",
    "print(type(z))  # <class 'complex'>"
   ]
  },
  {
   "cell_type": "code",
   "execution_count": 10,
   "id": "8af39fbb",
   "metadata": {},
   "outputs": [
    {
     "name": "stdout",
     "output_type": "stream",
     "text": [
      "(1+2j)\n"
     ]
    }
   ],
   "source": [
    "z = 1 + 2j\n",
    "print((z))  # example"
   ]
  },
  {
   "cell_type": "code",
   "execution_count": 11,
   "id": "af082b30",
   "metadata": {},
   "outputs": [
    {
     "name": "stdout",
     "output_type": "stream",
     "text": [
      "<class 'NoneType'>\n"
     ]
    }
   ],
   "source": [
    "n = None\n",
    "print(type(n))  # <class 'NoneType'>"
   ]
  },
  {
   "cell_type": "code",
   "execution_count": 12,
   "id": "7d33dcc1",
   "metadata": {},
   "outputs": [
    {
     "name": "stdout",
     "output_type": "stream",
     "text": [
      "None\n"
     ]
    }
   ],
   "source": [
    "n = None\n",
    "print((n))  # example"
   ]
  },
  {
   "cell_type": "code",
   "execution_count": 13,
   "id": "500aa292",
   "metadata": {},
   "outputs": [
    {
     "name": "stdout",
     "output_type": "stream",
     "text": [
      "<class 'str'>\n"
     ]
    }
   ],
   "source": [
    "s = \"Python\"\n",
    "print(type(s))  # <class 'str'>"
   ]
  },
  {
   "cell_type": "code",
   "execution_count": 14,
   "id": "50fbb109",
   "metadata": {},
   "outputs": [
    {
     "name": "stdout",
     "output_type": "stream",
     "text": [
      "Python\n"
     ]
    }
   ],
   "source": [
    "s = \"Python\"\n",
    "print((s))  # exmple"
   ]
  },
  {
   "cell_type": "code",
   "execution_count": 15,
   "id": "e43bdfd5",
   "metadata": {},
   "outputs": [
    {
     "name": "stdout",
     "output_type": "stream",
     "text": [
      "<class 'bool'>\n"
     ]
    }
   ],
   "source": [
    "flag = True\n",
    "print(type(flag))  # <class 'bool'>"
   ]
  },
  {
   "cell_type": "code",
   "execution_count": 16,
   "id": "f0ea2d81",
   "metadata": {},
   "outputs": [
    {
     "name": "stdout",
     "output_type": "stream",
     "text": [
      "True\n"
     ]
    }
   ],
   "source": [
    "flag = True\n",
    "print((flag))  # example"
   ]
  },
  {
   "cell_type": "code",
   "execution_count": 17,
   "id": "30be19a1",
   "metadata": {},
   "outputs": [
    {
     "name": "stdout",
     "output_type": "stream",
     "text": [
      "<class 'list'>\n"
     ]
    }
   ],
   "source": [
    "fruits = [\"apple\", \"banana\", \"cherry\"]\n",
    "print(type(fruits))  # <class 'list'>"
   ]
  },
  {
   "cell_type": "code",
   "execution_count": 19,
   "id": "c69c329d",
   "metadata": {},
   "outputs": [
    {
     "name": "stdout",
     "output_type": "stream",
     "text": [
      "['apple', 'banana', 'cherry']\n"
     ]
    }
   ],
   "source": [
    "fruits = [\"apple\", \"banana\", \"cherry\"]\n",
    "print((fruits))  # example"
   ]
  },
  {
   "cell_type": "code",
   "execution_count": 20,
   "id": "8ea93f3c",
   "metadata": {},
   "outputs": [
    {
     "name": "stdout",
     "output_type": "stream",
     "text": [
      "<class 'tuple'>\n"
     ]
    }
   ],
   "source": [
    "point = (3, 5)\n",
    "print(type(point))  # <class 'tuple'>"
   ]
  },
  {
   "cell_type": "code",
   "execution_count": 21,
   "id": "e613f472",
   "metadata": {},
   "outputs": [
    {
     "name": "stdout",
     "output_type": "stream",
     "text": [
      "(3, 5)\n"
     ]
    }
   ],
   "source": [
    "point = (3, 5)\n",
    "print((point))  # example"
   ]
  },
  {
   "cell_type": "code",
   "execution_count": 22,
   "id": "b1d17de5",
   "metadata": {},
   "outputs": [
    {
     "name": "stdout",
     "output_type": "stream",
     "text": [
      "<class 'set'>\n"
     ]
    }
   ],
   "source": [
    "fruits = {\"apple\", \"banana\", \"cherry\"}\n",
    "print(type(fruits))  # <class 'set'>"
   ]
  },
  {
   "cell_type": "code",
   "execution_count": 23,
   "id": "539fa134",
   "metadata": {},
   "outputs": [
    {
     "name": "stdout",
     "output_type": "stream",
     "text": [
      "{'cherry', 'apple', 'banana'}\n"
     ]
    }
   ],
   "source": [
    "fruits = {\"apple\", \"banana\", \"cherry\"}\n",
    "print((fruits))  # example"
   ]
  },
  {
   "cell_type": "code",
   "execution_count": 24,
   "id": "94fdfed4",
   "metadata": {},
   "outputs": [
    {
     "name": "stdout",
     "output_type": "stream",
     "text": [
      "<class 'dict'>\n"
     ]
    }
   ],
   "source": [
    "student = {\"name\": \"Alice\", \"age\": 21}\n",
    "print(type(student))  # <class 'dict'>"
   ]
  },
  {
   "cell_type": "code",
   "execution_count": 25,
   "id": "452133a1",
   "metadata": {},
   "outputs": [
    {
     "name": "stdout",
     "output_type": "stream",
     "text": [
      "{'name': 'Alice', 'age': 21}\n"
     ]
    }
   ],
   "source": [
    "student = {\"name\": \"Alice\", \"age\": 21}\n",
    "print((student))  # example"
   ]
  },
  {
   "cell_type": "code",
   "execution_count": 26,
   "id": "496bbc1e",
   "metadata": {},
   "outputs": [
    {
     "name": "stdout",
     "output_type": "stream",
     "text": [
      "<class 'bytes'>\n"
     ]
    }
   ],
   "source": [
    "b = b\"Hello\"\n",
    "print(type(b))  # <class 'bytes'>"
   ]
  },
  {
   "cell_type": "code",
   "execution_count": 27,
   "id": "b6e5ffa7",
   "metadata": {},
   "outputs": [
    {
     "name": "stdout",
     "output_type": "stream",
     "text": [
      "b'Hello'\n"
     ]
    }
   ],
   "source": [
    "b = b\"Hello\"\n",
    "print((b))  # example"
   ]
  },
  {
   "cell_type": "code",
   "execution_count": 28,
   "id": "60fc1cd9",
   "metadata": {},
   "outputs": [
    {
     "name": "stdout",
     "output_type": "stream",
     "text": [
      "<class 'frozenset'>\n"
     ]
    }
   ],
   "source": [
    "fs = frozenset([1, 2, 3])\n",
    "print(type(fs))  # <class 'frozenset'>"
   ]
  },
  {
   "cell_type": "code",
   "execution_count": 29,
   "id": "8294be8d",
   "metadata": {},
   "outputs": [
    {
     "name": "stdout",
     "output_type": "stream",
     "text": [
      "frozenset({1, 2, 3})\n"
     ]
    }
   ],
   "source": [
    "fs = frozenset([1, 2, 3])\n",
    "print((fs))  # example"
   ]
  },
  {
   "cell_type": "code",
   "execution_count": 30,
   "id": "23d4f54c",
   "metadata": {},
   "outputs": [
    {
     "name": "stdout",
     "output_type": "stream",
     "text": [
      "<class 'collections.OrderedDict'>\n"
     ]
    }
   ],
   "source": [
    "from collections import OrderedDict\n",
    "od = OrderedDict()\n",
    "od[\"apple\"] = 1\n",
    "od[\"banana\"] = 2\n",
    "print(type(od))  # <class 'collections.OrderedDict'>"
   ]
  },
  {
   "cell_type": "code",
   "execution_count": 31,
   "id": "89759ce5",
   "metadata": {},
   "outputs": [
    {
     "name": "stdout",
     "output_type": "stream",
     "text": [
      "OrderedDict({'apple': 1, 'banana': 2})\n"
     ]
    }
   ],
   "source": [
    "from collections import OrderedDict\n",
    "od = OrderedDict()\n",
    "od[\"apple\"] = 1\n",
    "od[\"banana\"] = 2\n",
    "print((od))  # example"
   ]
  },
  {
   "cell_type": "code",
   "execution_count": 32,
   "id": "33e51743",
   "metadata": {},
   "outputs": [
    {
     "name": "stdout",
     "output_type": "stream",
     "text": [
      "defaultdict(<class 'int'>, {'apple': 1})\n"
     ]
    }
   ],
   "source": [
    "from collections import defaultdict\n",
    "dd = defaultdict(int)\n",
    "dd[\"apple\"] += 1\n",
    "print(dd)  # defaultdict(<class 'int'>, {'apple': 1})"
   ]
  },
  {
   "cell_type": "code",
   "execution_count": 33,
   "id": "5a7f187b",
   "metadata": {},
   "outputs": [
    {
     "name": "stdout",
     "output_type": "stream",
     "text": [
      "Counter({'apple': 2, 'banana': 1})\n"
     ]
    }
   ],
   "source": [
    "from collections import Counter\n",
    "c = Counter([\"apple\", \"banana\", \"apple\"])\n",
    "print(c)  # Counter({'apple': 2, 'banana': 1})"
   ]
  },
  {
   "cell_type": "code",
   "execution_count": 34,
   "id": "81d2bd76",
   "metadata": {},
   "outputs": [
    {
     "name": "stdout",
     "output_type": "stream",
     "text": [
      "deque([2, 1])\n"
     ]
    }
   ],
   "source": [
    "from collections import deque\n",
    "d = deque()\n",
    "d.append(1)\n",
    "d.appendleft(2)\n",
    "print(d)  # deque([2, 1])"
   ]
  },
  {
   "cell_type": "code",
   "execution_count": 35,
   "id": "4ca2d5c4",
   "metadata": {},
   "outputs": [
    {
     "name": "stdout",
     "output_type": "stream",
     "text": [
      "{'apple': 1}\n"
     ]
    }
   ],
   "source": [
    "from collections import UserDict\n",
    "class MyDict(UserDict):\n",
    "    def __setitem__(self, key, value):\n",
    "        super().__setitem__(key, value)\n",
    "d = MyDict()\n",
    "d[\"apple\"] = 1\n",
    "print(d)  # MyDict({'apple': 1})"
   ]
  },
  {
   "cell_type": "code",
   "execution_count": 36,
   "id": "7028db93",
   "metadata": {},
   "outputs": [
    {
     "name": "stdout",
     "output_type": "stream",
     "text": [
      "[1]\n"
     ]
    }
   ],
   "source": [
    "from collections import UserList\n",
    "class MyList(UserList):\n",
    "    def append(self, item):\n",
    "        super().append(item)\n",
    "l = MyList()\n",
    "l.append(1)\n",
    "print(l)  # MyList([1])"
   ]
  },
  {
   "cell_type": "code",
   "execution_count": 37,
   "id": "18ca2df9",
   "metadata": {},
   "outputs": [
    {
     "name": "stdout",
     "output_type": "stream",
     "text": [
      "<class 'str'>\n"
     ]
    }
   ],
   "source": [
    "x = 10      # x is int\n",
    "x = \"ten\"   # now x is str\n",
    "print(type(x))  # <class 'str'>"
   ]
  },
  {
   "cell_type": "code",
   "execution_count": 38,
   "id": "37a5d8e0",
   "metadata": {},
   "outputs": [
    {
     "name": "stdout",
     "output_type": "stream",
     "text": [
      "ten\n"
     ]
    }
   ],
   "source": [
    "x = 10      # x is int\n",
    "x = \"ten\"   # now x is str\n",
    "print((x))  # example"
   ]
  },
  {
   "cell_type": "code",
   "execution_count": 39,
   "id": "ce9660e7",
   "metadata": {},
   "outputs": [
    {
     "name": "stdout",
     "output_type": "stream",
     "text": [
      "7.0\n",
      "<class 'float'>\n"
     ]
    }
   ],
   "source": [
    "a = 5       # int\n",
    "b = 2.0     # float\n",
    "c = a + b   # int + float -> float\n",
    "print(c)    # 7.0\n",
    "print(type(c))  # <class 'float'>"
   ]
  },
  {
   "cell_type": "code",
   "execution_count": 40,
   "id": "bf14338e",
   "metadata": {},
   "outputs": [
    {
     "name": "stdout",
     "output_type": "stream",
     "text": [
      "7\n"
     ]
    }
   ],
   "source": [
    "a = \"5\"\n",
    "b = \"2\"\n",
    "c = int(a) + int(b)  # convert strings to int\n",
    "print(c)  # 7"
   ]
  },
  {
   "cell_type": "code",
   "execution_count": 41,
   "id": "e65299a9",
   "metadata": {},
   "outputs": [
    {
     "name": "stdout",
     "output_type": "stream",
     "text": [
      "3\n"
     ]
    }
   ],
   "source": [
    "x = 3.7\n",
    "y = int(x)  # y is 3 (decimal part is truncated)\n",
    "print(y)"
   ]
  },
  {
   "cell_type": "code",
   "execution_count": 42,
   "id": "290c8561",
   "metadata": {},
   "outputs": [
    {
     "name": "stdout",
     "output_type": "stream",
     "text": [
      "<class 'int'>\n"
     ]
    }
   ],
   "source": [
    "x = 3.7\n",
    "y = int(x)  # y is 3 (decimal part is truncated)\n",
    "print(type(y))  # example"
   ]
  },
  {
   "cell_type": "code",
   "execution_count": 43,
   "id": "12bd0055",
   "metadata": {},
   "outputs": [
    {
     "name": "stdout",
     "output_type": "stream",
     "text": [
      "7\n"
     ]
    }
   ],
   "source": [
    "a = 5\n",
    "b = 2\n",
    "print(a + b)  # TypeError: can only concatenate str (not \"int\") to str"
   ]
  },
  {
   "cell_type": "code",
   "execution_count": 44,
   "id": "a008763c",
   "metadata": {},
   "outputs": [
    {
     "name": "stdout",
     "output_type": "stream",
     "text": [
      "7\n",
      "7\n"
     ]
    }
   ],
   "source": [
    "print(int(a) + b)  # 7\n",
    "print(a + int(b))  # \"52\""
   ]
  },
  {
   "cell_type": "code",
   "execution_count": 45,
   "id": "57bd4668",
   "metadata": {},
   "outputs": [],
   "source": [
    "s = \"hello\"\n",
    "n = int(10)  # ValueError: invalid literal for int() with base 10: 'hello'"
   ]
  },
  {
   "cell_type": "code",
   "execution_count": 46,
   "id": "6afbcb3d",
   "metadata": {},
   "outputs": [
    {
     "name": "stdout",
     "output_type": "stream",
     "text": [
      "Cannot convert to int!\n"
     ]
    }
   ],
   "source": [
    "s = \"abc\"\n",
    "try:\n",
    "        n = int(s)\n",
    "except ValueError:\n",
    "        print(\"Cannot convert to int!\")"
   ]
  },
  {
   "cell_type": "code",
   "execution_count": 47,
   "id": "471d4c63",
   "metadata": {},
   "outputs": [
    {
     "name": "stdout",
     "output_type": "stream",
     "text": [
      "13\n",
      "3.3333333333333335\n",
      "3\n",
      "1000\n"
     ]
    }
   ],
   "source": [
    "a = 10\n",
    "b = 3\n",
    "print(a + b)  # 13\n",
    "print(a / b)  # 3.333...\n",
    "print(a // b) # 3\n",
    "print(a ** b) # 1000"
   ]
  },
  {
   "cell_type": "code",
   "execution_count": 48,
   "id": "f1589f0e",
   "metadata": {},
   "outputs": [
    {
     "name": "stdout",
     "output_type": "stream",
     "text": [
      "True\n",
      "False\n"
     ]
    }
   ],
   "source": [
    "print(5 > 2)   # True\n",
    "print(5 == 2)  # False"
   ]
  },
  {
   "cell_type": "code",
   "execution_count": 49,
   "id": "ff7e7fe7",
   "metadata": {},
   "outputs": [
    {
     "name": "stdout",
     "output_type": "stream",
     "text": [
      "True\n",
      "False\n"
     ]
    }
   ],
   "source": [
    "x = 5\n",
    "print(x > 2 and x < 10)  # True\n",
    "print(not(x == 5))       # False"
   ]
  },
  {
   "cell_type": "code",
   "execution_count": 50,
   "id": "f302d8db",
   "metadata": {},
   "outputs": [
    {
     "name": "stdout",
     "output_type": "stream",
     "text": [
      "5\n"
     ]
    }
   ],
   "source": [
    "x = 10\n",
    "x -= 5  # x = x - 5\n",
    "print(x)  # 5"
   ]
  },
  {
   "cell_type": "code",
   "execution_count": 51,
   "id": "2da91e79",
   "metadata": {},
   "outputs": [
    {
     "name": "stdout",
     "output_type": "stream",
     "text": [
      "50\n"
     ]
    }
   ],
   "source": [
    "x = 10\n",
    "x *= 5  # x = x * 5\n",
    "print(x)  # 50"
   ]
  },
  {
   "cell_type": "code",
   "execution_count": 52,
   "id": "201538b4",
   "metadata": {},
   "outputs": [
    {
     "name": "stdout",
     "output_type": "stream",
     "text": [
      "2.0\n"
     ]
    }
   ],
   "source": [
    "x = 10\n",
    "x /= 5  # x = x / 5\n",
    "print(x)  # 2"
   ]
  },
  {
   "cell_type": "code",
   "execution_count": 53,
   "id": "d000882a",
   "metadata": {},
   "outputs": [
    {
     "name": "stdout",
     "output_type": "stream",
     "text": [
      "2\n"
     ]
    }
   ],
   "source": [
    "x = 10\n",
    "x //= 5  # x = x // 5\n",
    "print(x)  # 2"
   ]
  },
  {
   "cell_type": "code",
   "execution_count": 54,
   "id": "c30943b4",
   "metadata": {},
   "outputs": [
    {
     "name": "stdout",
     "output_type": "stream",
     "text": [
      "0\n"
     ]
    }
   ],
   "source": [
    "x = 10\n",
    "x %= 5  # x = x % 5\n",
    "print(x)  # 0"
   ]
  },
  {
   "cell_type": "code",
   "execution_count": 55,
   "id": "fc38a566",
   "metadata": {},
   "outputs": [
    {
     "name": "stdout",
     "output_type": "stream",
     "text": [
      "100000\n"
     ]
    }
   ],
   "source": [
    "x = 10\n",
    "x **= 5  # x = x ** 5\n",
    "print(x)  # 100000"
   ]
  },
  {
   "cell_type": "code",
   "execution_count": 56,
   "id": "e91f942b",
   "metadata": {},
   "outputs": [
    {
     "name": "stdout",
     "output_type": "stream",
     "text": [
      "0\n"
     ]
    }
   ],
   "source": [
    "x = 10\n",
    "x &= 5  # x = x & 5\n",
    "print(x)  # 0"
   ]
  },
  {
   "cell_type": "code",
   "execution_count": 57,
   "id": "eb6c567d",
   "metadata": {},
   "outputs": [
    {
     "name": "stdout",
     "output_type": "stream",
     "text": [
      "15\n"
     ]
    }
   ],
   "source": [
    "x = 10\n",
    "x |= 5  # x = x | 5\n",
    "print(x)  # 15"
   ]
  },
  {
   "cell_type": "code",
   "execution_count": 58,
   "id": "dde05cce",
   "metadata": {},
   "outputs": [
    {
     "name": "stdout",
     "output_type": "stream",
     "text": [
      "15\n"
     ]
    }
   ],
   "source": [
    "x = 10\n",
    "x ^= 5  # x = x ^ 5\n",
    "print(x)  # 15"
   ]
  },
  {
   "cell_type": "code",
   "execution_count": 59,
   "id": "38809f14",
   "metadata": {},
   "outputs": [
    {
     "name": "stdout",
     "output_type": "stream",
     "text": [
      "0\n"
     ]
    }
   ],
   "source": [
    "x = 10\n",
    "x >>= 5  # x = x >> 5\n",
    "print(x)  # 0"
   ]
  },
  {
   "cell_type": "code",
   "execution_count": 60,
   "id": "4f63c452",
   "metadata": {},
   "outputs": [
    {
     "name": "stdout",
     "output_type": "stream",
     "text": [
      "320\n"
     ]
    }
   ],
   "source": [
    "x = 10\n",
    "x <<= 5  # x = x << 5\n",
    "print(x)  # 320"
   ]
  },
  {
   "cell_type": "code",
   "execution_count": 61,
   "id": "f0aba798",
   "metadata": {},
   "outputs": [
    {
     "name": "stdout",
     "output_type": "stream",
     "text": [
      "True\n",
      "True\n"
     ]
    }
   ],
   "source": [
    "nums = [1, 2, 3]\n",
    "print(2 in nums)      # True\n",
    "print(4 not in nums)  # True"
   ]
  },
  {
   "cell_type": "code",
   "execution_count": 62,
   "id": "01203e3e",
   "metadata": {},
   "outputs": [
    {
     "name": "stdout",
     "output_type": "stream",
     "text": [
      "True\n",
      "False\n",
      "True\n"
     ]
    }
   ],
   "source": [
    "a = [1, 2]\n",
    "b = a\n",
    "c = [1, 2]\n",
    "print(a is b)      # True\n",
    "print(a is c)      # False\n",
    "print(a == c)      # True"
   ]
  },
  {
   "cell_type": "code",
   "execution_count": null,
   "id": "de1c8516",
   "metadata": {},
   "outputs": [],
   "source": []
  }
 ],
 "metadata": {
  "kernelspec": {
   "display_name": "Python 3",
   "language": "python",
   "name": "python3"
  },
  "language_info": {
   "codemirror_mode": {
    "name": "ipython",
    "version": 3
   },
   "file_extension": ".py",
   "mimetype": "text/x-python",
   "name": "python",
   "nbconvert_exporter": "python",
   "pygments_lexer": "ipython3",
   "version": "3.13.5"
  }
 },
 "nbformat": 4,
 "nbformat_minor": 5
}
