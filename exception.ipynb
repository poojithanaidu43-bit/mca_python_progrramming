{
 "cells": [
  {
   "cell_type": "code",
   "execution_count": null,
   "id": "36680119",
   "metadata": {},
   "outputs": [],
   "source": [
    "# Exception in python\n"
   ]
  },
  {
   "cell_type": "code",
   "execution_count": null,
   "id": "2153cfef",
   "metadata": {},
   "outputs": [],
   "source": [
    "a=int(input(\"Enter num->\"))\n",
    "print(a)"
   ]
  }
 ],
 "metadata": {
  "kernelspec": {
   "display_name": "Python 3",
   "language": "python",
   "name": "python3"
  },
  "language_info": {
   "codemirror_mode": {
    "name": "ipython",
    "version": 3
   },
   "file_extension": ".py",
   "mimetype": "text/x-python",
   "name": "python",
   "nbconvert_exporter": "python",
   "pygments_lexer": "ipython3",
   "version": "3.13.5"
  }
 },
 "nbformat": 4,
 "nbformat_minor": 5
}
